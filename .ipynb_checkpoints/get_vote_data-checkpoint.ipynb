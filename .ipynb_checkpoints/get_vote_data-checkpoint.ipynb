{
 "cells": [
  {
   "cell_type": "code",
   "execution_count": 1,
   "metadata": {
    "collapsed": true
   },
   "outputs": [],
   "source": [
    "import bs4 as bs\n",
    "import urllib.request\n",
    "import pandas as pd\n",
    "import re\n",
    "#import pickle\n",
    "#import time\n",
    "#import progressbar\n",
    "\n"
   ]
  },
  {
   "cell_type": "code",
   "execution_count": 2,
   "metadata": {
    "collapsed": false
   },
   "outputs": [
    {
     "data": {
      "text/plain": [
       "259"
      ]
     },
     "execution_count": 2,
     "metadata": {},
     "output_type": "execute_result"
    }
   ],
   "source": [
    "#http://www.sejm.gov.pl/Sejm8.nsf/agent.xsp?symbol=posglos&NrKadencji=8\n",
    "#read list of gov sessions for both cadences\n",
    "\n",
    "#list of sessions\n",
    "#cadences = [7,8]\n",
    "cadences = [7]\n",
    "\n",
    "lines = []\n",
    "for cadence in cadences:\n",
    "    url = 'http://www.sejm.gov.pl/Sejm8.nsf/agent.xsp?symbol=posglos&NrKadencji='+str(cadence)\n",
    "    source = urllib.request.urlopen(url).read()\n",
    "    soup = bs.BeautifulSoup(source,'lxml')\n",
    "    \n",
    "    #list all lines - including day Id's\n",
    "    for url in soup.find_all('a'):\n",
    "        lines.append(url.get('href'))\n",
    "\n",
    "\n",
    "len(lines)"
   ]
  },
  {
   "cell_type": "code",
   "execution_count": 3,
   "metadata": {
    "collapsed": false
   },
   "outputs": [],
   "source": [
    "#  'agent.xsp?symbol=listaglos&IdDnia=1389"
   ]
  },
  {
   "cell_type": "code",
   "execution_count": 4,
   "metadata": {
    "collapsed": false
   },
   "outputs": [
    {
     "data": {
      "text/plain": [
       "168"
      ]
     },
     "execution_count": 4,
     "metadata": {},
     "output_type": "execute_result"
    }
   ],
   "source": [
    "#get all day Id's \n",
    "dayIds = []\n",
    "\n",
    "for line in lines:\n",
    "    if '&IdDnia=' in line:\n",
    "        dayIds.append(line[-4:])\n",
    "\n",
    "len(dayIds)"
   ]
  },
  {
   "cell_type": "code",
   "execution_count": 5,
   "metadata": {
    "collapsed": false
   },
   "outputs": [],
   "source": [
    "# ('1497', 8)"
   ]
  },
  {
   "cell_type": "code",
   "execution_count": 6,
   "metadata": {
    "collapsed": false
   },
   "outputs": [
    {
     "data": {
      "text/plain": [
       "28222"
      ]
     },
     "execution_count": 6,
     "metadata": {},
     "output_type": "execute_result"
    }
   ],
   "source": [
    "#http://www.sejm.gov.pl/Sejm8.nsf/agent.xsp?symbol=listaglos&IdDnia=1570\n",
    "#get votes for each day\n",
    "lines = []\n",
    "for dayId in dayIds:\n",
    "    url = 'http://www.sejm.gov.pl/Sejm8.nsf/agent.xsp?symbol=listaglos&IdDnia='+str(dayId)\n",
    "    source = urllib.request.urlopen(url).read()\n",
    "    soup = bs.BeautifulSoup(source,'lxml')\n",
    "    \n",
    "    for url in soup.find_all('a'):\n",
    "        lines.append(url.get('href')+'&'+dayId)\n",
    "\n",
    "len(lines)"
   ]
  },
  {
   "cell_type": "code",
   "execution_count": 7,
   "metadata": {
    "collapsed": false
   },
   "outputs": [],
   "source": [
    "# 'agent.xsp?symbol=glosowania&NrKadencji=7&NrPosiedzenia=99&NrGlosowania=5'\n",
    "#line = 'agent.xsp?symbol=glosowania&NrKadencji=7&NrPosiedzenia=99&NrGlosowania=5'\n",
    "#print(cadence, \" \", session, \" \", vote)        "
   ]
  },
  {
   "cell_type": "code",
   "execution_count": 8,
   "metadata": {
    "collapsed": false
   },
   "outputs": [
    {
     "data": {
      "text/plain": [
       "12584"
      ]
     },
     "execution_count": 8,
     "metadata": {},
     "output_type": "execute_result"
    }
   ],
   "source": [
    "#get all sessionIds and voteIds \n",
    "sessions = []\n",
    "\n",
    "for line in lines:\n",
    "    if 'symbol=glosowania&NrKadencji' in line:\n",
    "        split_line = re.split('=|&',line)\n",
    "        \n",
    "        for x,text in enumerate(split_line):\n",
    "            if split_line[x] == 'NrKadencji':\n",
    "                cadence = split_line[x+1]\n",
    "                session = split_line[x+3]\n",
    "                vote = split_line[x+5]\n",
    "                dayId = split_line[x+6]\n",
    "        \n",
    "        sessions.append([cadence, session, vote, dayId])\n",
    "\n",
    "len(sessions)"
   ]
  },
  {
   "cell_type": "code",
   "execution_count": 9,
   "metadata": {
    "collapsed": false
   },
   "outputs": [
    {
     "data": {
      "text/plain": [
       "cadence    6292\n",
       "session    6292\n",
       "vote       6292\n",
       "dayId      6292\n",
       "dtype: int64"
      ]
     },
     "execution_count": 9,
     "metadata": {},
     "output_type": "execute_result"
    }
   ],
   "source": [
    "sessions_df = pd.DataFrame(sessions)\n",
    "sessions_df.columns = ['cadence','session','vote','dayId']\n",
    "sessions_df = sessions_df.drop_duplicates()\n",
    "sessions_df.count()"
   ]
  },
  {
   "cell_type": "code",
   "execution_count": null,
   "metadata": {
    "collapsed": false
   },
   "outputs": [
    {
     "data": {
      "text/html": [
       "<div>\n",
       "<table border=\"1\" class=\"dataframe\">\n",
       "  <thead>\n",
       "    <tr style=\"text-align: right;\">\n",
       "      <th></th>\n",
       "      <th>cadence</th>\n",
       "      <th>session</th>\n",
       "      <th>vote</th>\n",
       "      <th>dayId</th>\n",
       "    </tr>\n",
       "  </thead>\n",
       "  <tbody>\n",
       "    <tr>\n",
       "      <th>12574</th>\n",
       "      <td>7</td>\n",
       "      <td>1</td>\n",
       "      <td>40</td>\n",
       "      <td>1178</td>\n",
       "    </tr>\n",
       "    <tr>\n",
       "      <th>12576</th>\n",
       "      <td>7</td>\n",
       "      <td>1</td>\n",
       "      <td>41</td>\n",
       "      <td>1178</td>\n",
       "    </tr>\n",
       "    <tr>\n",
       "      <th>12578</th>\n",
       "      <td>7</td>\n",
       "      <td>1</td>\n",
       "      <td>43</td>\n",
       "      <td>1179</td>\n",
       "    </tr>\n",
       "    <tr>\n",
       "      <th>12580</th>\n",
       "      <td>7</td>\n",
       "      <td>1</td>\n",
       "      <td>44</td>\n",
       "      <td>1179</td>\n",
       "    </tr>\n",
       "    <tr>\n",
       "      <th>12582</th>\n",
       "      <td>7</td>\n",
       "      <td>1</td>\n",
       "      <td>45</td>\n",
       "      <td>1179</td>\n",
       "    </tr>\n",
       "  </tbody>\n",
       "</table>\n",
       "</div>"
      ],
      "text/plain": [
       "      cadence session vote dayId\n",
       "12574       7       1   40  1178\n",
       "12576       7       1   41  1178\n",
       "12578       7       1   43  1179\n",
       "12580       7       1   44  1179\n",
       "12582       7       1   45  1179"
      ]
     },
     "execution_count": 10,
     "metadata": {},
     "output_type": "execute_result"
    }
   ],
   "source": [
    "sessions_df.tail()"
   ]
  },
  {
   "cell_type": "code",
   "execution_count": null,
   "metadata": {
    "collapsed": false
   },
   "outputs": [],
   "source": [
    "#http://www.sejm.gov.pl/Sejm8.nsf/agent.xsp?symbol=glosowania&NrKadencji=8&NrPosiedzenia=33&NrGlosowania=1\n",
    "#parse vote result\n",
    "\n",
    "#bar = progressbar.Progressbar(max_value = len(sessions_df['cadence']))\n",
    "#i=0\n",
    "\n",
    "lines = []\n",
    "for index, row in sessions_df.iterrows():\n",
    "    url = 'http://www.sejm.gov.pl/Sejm8.nsf/agent.xsp?symbol=glosowania&NrKadencji='+str(row['cadence'])+'&NrPosiedzenia='+str(row['session'])+'&NrGlosowania='+str(row['vote'])\n",
    "    source = urllib.request.urlopen(url).read()\n",
    "    soup = bs.BeautifulSoup(source,'lxml')\n",
    "    \n",
    "    for url in soup.find_all('a'):\n",
    "        lines.append(url.get('href')+\"&\"+str(row['cadence']))\n",
    "    \n",
    "    #bar.update(i)\n",
    "    #i++\n",
    "    \n",
    "len(lines)\n"
   ]
  },
  {
   "cell_type": "code",
   "execution_count": null,
   "metadata": {
    "collapsed": false
   },
   "outputs": [],
   "source": [
    "#pickle lines\n",
    "#pickle.dump(lines,open('vote_summaries.p','wb'))"
   ]
  },
  {
   "cell_type": "code",
   "execution_count": null,
   "metadata": {
    "collapsed": true
   },
   "outputs": [],
   "source": [
    "#unpickle lines\n",
    "#read_lines = pickle.load(open('vote_summaries.p','rb'))"
   ]
  },
  {
   "cell_type": "code",
   "execution_count": null,
   "metadata": {
    "collapsed": false
   },
   "outputs": [],
   "source": [
    "#lines"
   ]
  },
  {
   "cell_type": "code",
   "execution_count": null,
   "metadata": {
    "collapsed": false
   },
   "outputs": [],
   "source": [
    "#get all vote summaries - cadence, vote detail number, club\n",
    "summary_results = []\n",
    "\n",
    "for line in lines:\n",
    "    if 'agent.xsp?symbol=klubglos&IdGlosowania=' in line:\n",
    "        split_line = re.split('=|&',line)\n",
    "        for x,text in enumerate(split_line):\n",
    "            if split_line[x] == 'IdGlosowania':\n",
    "                voteId = split_line[x+1]\n",
    "                club = split_line[x+3]\n",
    "                cadence = split_line[x+4]\n",
    "        summary_results.append([cadence, voteId, club])    \n",
    "\n",
    "len(summary_results)"
   ]
  },
  {
   "cell_type": "code",
   "execution_count": null,
   "metadata": {
    "collapsed": false
   },
   "outputs": [],
   "source": [
    "summary_results_df = pd.DataFrame(summary_results)\n",
    "summary_results_df.columns = ['cadence','voteId','club']\n",
    "summary_results_df = summary_results_df.drop_duplicates()\n",
    "summary_results_df.count()"
   ]
  },
  {
   "cell_type": "code",
   "execution_count": 28,
   "metadata": {
    "collapsed": false
   },
   "outputs": [],
   "source": [
    "#http://www.sejm.gov.pl/Sejm8.nsf/agent.xsp?symbol=klubglos&IdGlosowania=46371&KodKlubu=PiS\n",
    "#get individual votes\n",
    "\n",
    "data = pd.DataFrame()\n",
    "cols = ['number','name','vote']\n",
    "\n",
    "for index, row in summary_results_df.iterrows():\n",
    "    url = 'http://www.sejm.gov.pl/Sejm8.nsf/agent.xsp?symbol=klubglos&IdGlosowania='+str(row['voteId'])+'&KodKlubu='+str(row['club'])\n",
    "    #source = urllib.request.urlopen(url).read()\n",
    "    #soup = bs.BeautifulSoup(source,'lxml')\n",
    "    dfs = pd.read_html(url,header=0,encoding='utf_8')\n",
    "    for df in dfs:\n",
    "        df1 = df.iloc[:,0:3]\n",
    "        df1.columns = cols\n",
    "        df2 = df.iloc[:,3:]\n",
    "        df2.columns = cols\n",
    "        df3 = df1.append(df2)\n",
    "        df3['cadence'] = row['cadence']\n",
    "        df3['club'] = row['club']\n",
    "        df3['voteId'] = row['voteId']\n",
    "    data = data.append(df3)\n"
   ]
  },
  {
   "cell_type": "code",
   "execution_count": 29,
   "metadata": {
    "collapsed": false
   },
   "outputs": [
    {
     "data": {
      "text/plain": [
       "(1191336, 6)"
      ]
     },
     "execution_count": 29,
     "metadata": {},
     "output_type": "execute_result"
    }
   ],
   "source": [
    "data.shape"
   ]
  },
  {
   "cell_type": "code",
   "execution_count": 32,
   "metadata": {
    "collapsed": false
   },
   "outputs": [
    {
     "data": {
      "text/plain": [
       "<bound method NDFrame.describe of     number                         name       vote cadence   club voteId\n",
       "0      1.0              Abramowicz Adam    Przeciw       8    PiS  46371\n",
       "1      3.0              Andzel Waldemar    Przeciw       8    PiS  46371\n",
       "2      5.0     Ardanowski Jan Krzysztof    Przeciw       8    PiS  46371\n",
       "3      7.0                    Ast Marek    Przeciw       8    PiS  46371\n",
       "4      9.0         Babiarz Piotr Łukasz    Przeciw       8    PiS  46371\n",
       "5     11.0             Bartosik Ryszard    Przeciw       8    PiS  46371\n",
       "6     13.0                  Bąk Dariusz    Przeciw       8    PiS  46371\n",
       "7     15.0               Bielecki Jerzy    Przeciw       8    PiS  46371\n",
       "8     17.0            Błaszczak Mariusz    Przeciw       8    PiS  46371\n",
       "9     19.0              Borowiak Joanna    Przeciw       8    PiS  46371\n",
       "10    21.0           Borys-Szopa Bożena    Przeciw       8    PiS  46371\n",
       "11    23.0               Bubula Barbara    Przeciw       8    PiS  46371\n",
       "12    25.0                Buda Waldemar    Przeciw       8    PiS  46371\n",
       "13    27.0         Chmielowiec Zbigniew    Przeciw       8    PiS  46371\n",
       "14    29.0               Cieślak Michał    Przeciw       8    PiS  46371\n",
       "15    31.0          Czabański Krzysztof    Przeciw       8    PiS  46371\n",
       "16    33.0             Czarnecki Witold    Przeciw       8    PiS  46371\n",
       "17    35.0                   Czech Anna    Przeciw       8    PiS  46371\n",
       "18    37.0           Czochara Katarzyna    Przeciw       8    PiS  46371\n",
       "19    39.0              Dolata Zbigniew    Przeciw       8    PiS  46371\n",
       "20    41.0                Duda Elżbieta    Przeciw       8    PiS  46371\n",
       "21    43.0                Duszek Marcin    Przeciw       8    PiS  46371\n",
       "22    45.0              Dziedziczak Jan    Przeciw       8    PiS  46371\n",
       "23    47.0                Dziuk Barbara    Przeciw       8    PiS  46371\n",
       "24    49.0                 Filipiak Ewa    Przeciw       8    PiS  46371\n",
       "25    51.0               Gawron Andrzej    Przeciw       8    PiS  46371\n",
       "26    53.0                 Glenc Teresa    Przeciw       8    PiS  46371\n",
       "27    55.0              Głębocki Konrad    Przeciw       8    PiS  46371\n",
       "28    57.0          Golińska Małgorzata    Przeciw       8    PiS  46371\n",
       "29    59.0            Gonciarz Jarosław    Przeciw       8    PiS  46371\n",
       "..     ...                          ...        ...     ...    ...    ...\n",
       "4     10.0             Lubczyk Radosław  Nieobecny       8      N  43878\n",
       "5     12.0            Meysztowicz Jerzy  Nieobecny       8      N  43878\n",
       "6     14.0                 Misiło Piotr  Nieobecny       8      N  43878\n",
       "7     16.0                Petru Ryszard  Nieobecny       8      N  43878\n",
       "8     18.0                  Rosa Monika  Nieobecny       8      N  43878\n",
       "9     20.0     Scheuring-Wielgus Joanna  Nieobecny       8      N  43878\n",
       "10    22.0             Stasiński Michał  Nieobecny       8      N  43878\n",
       "11    24.0              Suchoń Mirosław  Nieobecny       8      N  43878\n",
       "12    26.0        Truskolaski Krzysztof  Nieobecny       8      N  43878\n",
       "13    28.0          Zembaczyński Witold  Nieobecny       8      N  43878\n",
       "0      1.0  Baszko Mieczysław Kazimierz  Nieobecny       8    PSL  43878\n",
       "1      3.0             Jarubas Krystian  Nieobecny       8    PSL  43878\n",
       "2      5.0           Kłopotek Eugeniusz  Nieobecny       8    PSL  43878\n",
       "3      7.0           Kotowski Kazimierz  Nieobecny       8    PSL  43878\n",
       "4      9.0         Maliszewski Mirosław  Nieobecny       8    PSL  43878\n",
       "5     11.0            Pasławska Urszula  Nieobecny       8    PSL  43878\n",
       "6     13.0                Sawicki Marek  Nieobecny       8    PSL  43878\n",
       "7     15.0            Tokarska Genowefa  Nieobecny       8    PSL  43878\n",
       "0      2.0                  Bejda Paweł  Nieobecny       8    PSL  43878\n",
       "1      4.0          Kasprzak Mieczysław  Nieobecny       8    PSL  43878\n",
       "2      6.0    Kosiniak-Kamysz Władysław  Nieobecny       8    PSL  43878\n",
       "3      8.0                   Łopata Jan  Nieobecny       8    PSL  43878\n",
       "4     10.0       Możdżanowska Andżelika  Nieobecny       8    PSL  43878\n",
       "5     12.0             Paszyk Krzysztof  Nieobecny       8    PSL  43878\n",
       "6     14.0           Sosnowski Zbigniew  Nieobecny       8    PSL  43878\n",
       "7     16.0             Zgorzelski Piotr  Nieobecny       8    PSL  43878\n",
       "0      1.0                Galla Ryszard  Nieobecny       8  niez.  43878\n",
       "1      3.0               Sanocki Janusz         Za       8  niez.  43878\n",
       "0      2.0                 Klawiter Jan         Za       8  niez.  43878\n",
       "1      NaN                          NaN        NaN       8  niez.  43878\n",
       "\n",
       "[1191336 rows x 6 columns]>"
      ]
     },
     "execution_count": 32,
     "metadata": {},
     "output_type": "execute_result"
    }
   ],
   "source": [
    "data.describe"
   ]
  },
  {
   "cell_type": "code",
   "execution_count": 33,
   "metadata": {
    "collapsed": true
   },
   "outputs": [],
   "source": [
    "data2 = data.dropna()"
   ]
  },
  {
   "cell_type": "code",
   "execution_count": 34,
   "metadata": {
    "collapsed": false
   },
   "outputs": [
    {
     "data": {
      "text/plain": [
       "(1186054, 6)"
      ]
     },
     "execution_count": 34,
     "metadata": {},
     "output_type": "execute_result"
    }
   ],
   "source": [
    "data2.shape"
   ]
  },
  {
   "cell_type": "code",
   "execution_count": 35,
   "metadata": {
    "collapsed": false
   },
   "outputs": [],
   "source": [
    "data2.to_csv('voting_cadence_7_1_dropna.csv')"
   ]
  },
  {
   "cell_type": "code",
   "execution_count": 36,
   "metadata": {
    "collapsed": false
   },
   "outputs": [
    {
     "data": {
      "text/html": [
       "<div>\n",
       "<table border=\"1\" class=\"dataframe\">\n",
       "  <thead>\n",
       "    <tr style=\"text-align: right;\">\n",
       "      <th></th>\n",
       "      <th>number</th>\n",
       "      <th>name</th>\n",
       "      <th>vote</th>\n",
       "      <th>cadence</th>\n",
       "      <th>club</th>\n",
       "      <th>voteId</th>\n",
       "    </tr>\n",
       "  </thead>\n",
       "  <tbody>\n",
       "    <tr>\n",
       "      <th>0</th>\n",
       "      <td>1.0</td>\n",
       "      <td>Abramowicz Adam</td>\n",
       "      <td>Przeciw</td>\n",
       "      <td>8</td>\n",
       "      <td>PiS</td>\n",
       "      <td>46371</td>\n",
       "    </tr>\n",
       "    <tr>\n",
       "      <th>1</th>\n",
       "      <td>3.0</td>\n",
       "      <td>Andzel Waldemar</td>\n",
       "      <td>Przeciw</td>\n",
       "      <td>8</td>\n",
       "      <td>PiS</td>\n",
       "      <td>46371</td>\n",
       "    </tr>\n",
       "    <tr>\n",
       "      <th>2</th>\n",
       "      <td>5.0</td>\n",
       "      <td>Ardanowski Jan Krzysztof</td>\n",
       "      <td>Przeciw</td>\n",
       "      <td>8</td>\n",
       "      <td>PiS</td>\n",
       "      <td>46371</td>\n",
       "    </tr>\n",
       "    <tr>\n",
       "      <th>3</th>\n",
       "      <td>7.0</td>\n",
       "      <td>Ast Marek</td>\n",
       "      <td>Przeciw</td>\n",
       "      <td>8</td>\n",
       "      <td>PiS</td>\n",
       "      <td>46371</td>\n",
       "    </tr>\n",
       "    <tr>\n",
       "      <th>4</th>\n",
       "      <td>9.0</td>\n",
       "      <td>Babiarz Piotr Łukasz</td>\n",
       "      <td>Przeciw</td>\n",
       "      <td>8</td>\n",
       "      <td>PiS</td>\n",
       "      <td>46371</td>\n",
       "    </tr>\n",
       "  </tbody>\n",
       "</table>\n",
       "</div>"
      ],
      "text/plain": [
       "   number                      name     vote cadence club voteId\n",
       "0     1.0           Abramowicz Adam  Przeciw       8  PiS  46371\n",
       "1     3.0           Andzel Waldemar  Przeciw       8  PiS  46371\n",
       "2     5.0  Ardanowski Jan Krzysztof  Przeciw       8  PiS  46371\n",
       "3     7.0                 Ast Marek  Przeciw       8  PiS  46371\n",
       "4     9.0      Babiarz Piotr Łukasz  Przeciw       8  PiS  46371"
      ]
     },
     "execution_count": 36,
     "metadata": {},
     "output_type": "execute_result"
    }
   ],
   "source": [
    "data2.head()"
   ]
  },
  {
   "cell_type": "code",
   "execution_count": null,
   "metadata": {
    "collapsed": true
   },
   "outputs": [],
   "source": []
  }
 ],
 "metadata": {
  "anaconda-cloud": {},
  "kernelspec": {
   "display_name": "Python [conda root]",
   "language": "python",
   "name": "conda-root-py"
  },
  "language_info": {
   "codemirror_mode": {
    "name": "ipython",
    "version": 3
   },
   "file_extension": ".py",
   "mimetype": "text/x-python",
   "name": "python",
   "nbconvert_exporter": "python",
   "pygments_lexer": "ipython3",
   "version": "3.5.2"
  }
 },
 "nbformat": 4,
 "nbformat_minor": 1
}
