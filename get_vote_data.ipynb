{
 "cells": [
  {
   "cell_type": "code",
   "execution_count": 1,
   "metadata": {
    "collapsed": true
   },
   "outputs": [],
   "source": [
    "import bs4 as bs\n",
    "import urllib.request\n",
    "import pandas as pd\n",
    "import re\n",
    "#import pickle\n",
    "#import time\n",
    "#import progressbar\n",
    "\n"
   ]
  },
  {
   "cell_type": "code",
   "execution_count": 2,
   "metadata": {
    "collapsed": false
   },
   "outputs": [
    {
     "data": {
      "text/plain": [
       "259"
      ]
     },
     "execution_count": 2,
     "metadata": {},
     "output_type": "execute_result"
    }
   ],
   "source": [
    "#http://www.sejm.gov.pl/Sejm8.nsf/agent.xsp?symbol=posglos&NrKadencji=8\n",
    "#read list of gov sessions for both cadences\n",
    "\n",
    "#list of sessions\n",
    "#cadences = [7,8]\n",
    "cadences = [7]\n",
    "\n",
    "lines = []\n",
    "for cadence in cadences:\n",
    "    url = 'http://www.sejm.gov.pl/Sejm8.nsf/agent.xsp?symbol=posglos&NrKadencji='+str(cadence)\n",
    "    source = urllib.request.urlopen(url).read()\n",
    "    soup = bs.BeautifulSoup(source,'lxml')\n",
    "    \n",
    "    #list all lines - including day Id's\n",
    "    for url in soup.find_all('a'):\n",
    "        lines.append(url.get('href'))\n",
    "\n",
    "\n",
    "len(lines)"
   ]
  },
  {
   "cell_type": "code",
   "execution_count": 3,
   "metadata": {
    "collapsed": false
   },
   "outputs": [],
   "source": [
    "#  'agent.xsp?symbol=listaglos&IdDnia=1389"
   ]
  },
  {
   "cell_type": "code",
   "execution_count": 4,
   "metadata": {
    "collapsed": false
   },
   "outputs": [
    {
     "data": {
      "text/plain": [
       "168"
      ]
     },
     "execution_count": 4,
     "metadata": {},
     "output_type": "execute_result"
    }
   ],
   "source": [
    "#get all day Id's \n",
    "dayIds = []\n",
    "\n",
    "for line in lines:\n",
    "    if '&IdDnia=' in line:\n",
    "        dayIds.append(line[-4:])\n",
    "\n",
    "len(dayIds)"
   ]
  },
  {
   "cell_type": "code",
   "execution_count": 5,
   "metadata": {
    "collapsed": false
   },
   "outputs": [],
   "source": [
    "# ('1497', 8)"
   ]
  },
  {
   "cell_type": "code",
   "execution_count": 6,
   "metadata": {
    "collapsed": false
   },
   "outputs": [
    {
     "data": {
      "text/plain": [
       "28222"
      ]
     },
     "execution_count": 6,
     "metadata": {},
     "output_type": "execute_result"
    }
   ],
   "source": [
    "#http://www.sejm.gov.pl/Sejm8.nsf/agent.xsp?symbol=listaglos&IdDnia=1570\n",
    "#get votes for each day\n",
    "lines = []\n",
    "for dayId in dayIds:\n",
    "    url = 'http://www.sejm.gov.pl/Sejm8.nsf/agent.xsp?symbol=listaglos&IdDnia='+str(dayId)\n",
    "    source = urllib.request.urlopen(url).read()\n",
    "    soup = bs.BeautifulSoup(source,'lxml')\n",
    "    \n",
    "    for url in soup.find_all('a'):\n",
    "        lines.append(url.get('href')+'&'+dayId)\n",
    "\n",
    "len(lines)"
   ]
  },
  {
   "cell_type": "code",
   "execution_count": 7,
   "metadata": {
    "collapsed": false
   },
   "outputs": [],
   "source": [
    "# 'agent.xsp?symbol=glosowania&NrKadencji=7&NrPosiedzenia=99&NrGlosowania=5'\n",
    "#line = 'agent.xsp?symbol=glosowania&NrKadencji=7&NrPosiedzenia=99&NrGlosowania=5'\n",
    "#print(cadence, \" \", session, \" \", vote)        "
   ]
  },
  {
   "cell_type": "code",
   "execution_count": 8,
   "metadata": {
    "collapsed": false
   },
   "outputs": [
    {
     "data": {
      "text/plain": [
       "12584"
      ]
     },
     "execution_count": 8,
     "metadata": {},
     "output_type": "execute_result"
    }
   ],
   "source": [
    "#get all sessionIds and voteIds \n",
    "sessions = []\n",
    "\n",
    "for line in lines:\n",
    "    if 'symbol=glosowania&NrKadencji' in line:\n",
    "        split_line = re.split('=|&',line)\n",
    "        \n",
    "        for x,text in enumerate(split_line):\n",
    "            if split_line[x] == 'NrKadencji':\n",
    "                cadence = split_line[x+1]\n",
    "                session = split_line[x+3]\n",
    "                vote = split_line[x+5]\n",
    "                dayId = split_line[x+6]\n",
    "        \n",
    "        sessions.append([cadence, session, vote, dayId])\n",
    "\n",
    "len(sessions)"
   ]
  },
  {
   "cell_type": "code",
   "execution_count": 9,
   "metadata": {
    "collapsed": false
   },
   "outputs": [
    {
     "data": {
      "text/plain": [
       "cadence    6292\n",
       "session    6292\n",
       "vote       6292\n",
       "dayId      6292\n",
       "dtype: int64"
      ]
     },
     "execution_count": 9,
     "metadata": {},
     "output_type": "execute_result"
    }
   ],
   "source": [
    "sessions_df = pd.DataFrame(sessions)\n",
    "sessions_df.columns = ['cadence','session','vote','dayId']\n",
    "sessions_df = sessions_df.drop_duplicates()\n",
    "sessions_df.count()"
   ]
  },
  {
   "cell_type": "code",
   "execution_count": 10,
   "metadata": {
    "collapsed": false
   },
   "outputs": [],
   "source": [
    "#sessions_df.tail()"
   ]
  },
  {
   "cell_type": "code",
   "execution_count": 11,
   "metadata": {
    "collapsed": false
   },
   "outputs": [
    {
     "data": {
      "text/plain": [
       "748169"
      ]
     },
     "execution_count": 11,
     "metadata": {},
     "output_type": "execute_result"
    }
   ],
   "source": [
    "#http://www.sejm.gov.pl/Sejm8.nsf/agent.xsp?symbol=glosowania&NrKadencji=8&NrPosiedzenia=33&NrGlosowania=1\n",
    "#parse vote result\n",
    "\n",
    "#bar = progressbar.Progressbar(max_value = len(sessions_df['cadence']))\n",
    "#i=0\n",
    "\n",
    "lines = []\n",
    "for index, row in sessions_df.iterrows():\n",
    "    url = 'http://www.sejm.gov.pl/Sejm8.nsf/agent.xsp?symbol=glosowania&NrKadencji='+str(row['cadence'])+'&NrPosiedzenia='+str(row['session'])+'&NrGlosowania='+str(row['vote'])\n",
    "    source = urllib.request.urlopen(url).read()\n",
    "    soup = bs.BeautifulSoup(source,'lxml')\n",
    "    \n",
    "    for url in soup.find_all('a'):\n",
    "        lines.append(url.get('href')+\"&\"+str(row['cadence']))\n",
    "    \n",
    "    #bar.update(i)\n",
    "    #i++\n",
    "    \n",
    "len(lines)\n"
   ]
  },
  {
   "cell_type": "code",
   "execution_count": 12,
   "metadata": {
    "collapsed": false
   },
   "outputs": [],
   "source": [
    "#pickle lines\n",
    "#pickle.dump(lines,open('vote_summaries.p','wb'))"
   ]
  },
  {
   "cell_type": "code",
   "execution_count": 13,
   "metadata": {
    "collapsed": true
   },
   "outputs": [],
   "source": [
    "#unpickle lines\n",
    "#read_lines = pickle.load(open('vote_summaries.p','rb'))"
   ]
  },
  {
   "cell_type": "code",
   "execution_count": 14,
   "metadata": {
    "collapsed": false
   },
   "outputs": [],
   "source": [
    "#lines"
   ]
  },
  {
   "cell_type": "code",
   "execution_count": 15,
   "metadata": {
    "collapsed": false
   },
   "outputs": [
    {
     "data": {
      "text/plain": [
       "46108"
      ]
     },
     "execution_count": 15,
     "metadata": {},
     "output_type": "execute_result"
    }
   ],
   "source": [
    "#get all vote summaries - cadence, vote detail number, club\n",
    "summary_results = []\n",
    "\n",
    "for line in lines:\n",
    "    if 'agent.xsp?symbol=klubglos&IdGlosowania=' in line:\n",
    "        split_line = re.split('=|&',line)\n",
    "        for x,text in enumerate(split_line):\n",
    "            if split_line[x] == 'IdGlosowania':\n",
    "                voteId = split_line[x+1]\n",
    "                club = split_line[x+3]\n",
    "                cadence = split_line[x+4]\n",
    "        summary_results.append([cadence, voteId, club])    \n",
    "\n",
    "len(summary_results)"
   ]
  },
  {
   "cell_type": "code",
   "execution_count": 16,
   "metadata": {
    "collapsed": false
   },
   "outputs": [
    {
     "data": {
      "text/plain": [
       "cadence    46108\n",
       "voteId     46108\n",
       "club       46108\n",
       "dtype: int64"
      ]
     },
     "execution_count": 16,
     "metadata": {},
     "output_type": "execute_result"
    }
   ],
   "source": [
    "summary_results_df = pd.DataFrame(summary_results)\n",
    "summary_results_df.columns = ['cadence','voteId','club']\n",
    "summary_results_df = summary_results_df.drop_duplicates()\n",
    "summary_results_df.count()"
   ]
  },
  {
   "cell_type": "code",
   "execution_count": 17,
   "metadata": {
    "collapsed": false
   },
   "outputs": [],
   "source": [
    "#http://www.sejm.gov.pl/Sejm8.nsf/agent.xsp?symbol=klubglos&IdGlosowania=46371&KodKlubu=PiS\n",
    "#get individual votes\n",
    "\n",
    "data = pd.DataFrame()\n",
    "cols = ['number','name','vote']\n",
    "\n",
    "for index, row in summary_results_df.iloc[0:15000].iterrows():\n",
    "    url = 'http://www.sejm.gov.pl/Sejm8.nsf/agent.xsp?symbol=klubglos&IdGlosowania='+str(row['voteId'])+'&KodKlubu='+str(row['club'])\n",
    "    #source = urllib.request.urlopen(url).read()\n",
    "    #soup = bs.BeautifulSoup(source,'lxml')\n",
    "    dfs = pd.read_html(url,header=0,encoding='utf_8')\n",
    "    for df in dfs:\n",
    "        df1 = df.iloc[:,0:3]\n",
    "        df1.columns = cols\n",
    "        df2 = df.iloc[:,3:]\n",
    "        df2.columns = cols\n",
    "        df3 = df1.append(df2)\n",
    "        df3['cadence'] = row['cadence']\n",
    "        df3['club'] = row['club']\n",
    "        df3['voteId'] = row['voteId']\n",
    "    data = data.append(df3)\n"
   ]
  },
  {
   "cell_type": "code",
   "execution_count": 18,
   "metadata": {
    "collapsed": false
   },
   "outputs": [
    {
     "data": {
      "text/plain": [
       "(916726, 6)"
      ]
     },
     "execution_count": 18,
     "metadata": {},
     "output_type": "execute_result"
    }
   ],
   "source": [
    "data.shape"
   ]
  },
  {
   "cell_type": "code",
   "execution_count": 19,
   "metadata": {
    "collapsed": false
   },
   "outputs": [],
   "source": [
    "data2 = data.dropna()\n",
    "data2.to_csv('voting_cadence_7_1_dropna.csv')"
   ]
  },
  {
   "cell_type": "code",
   "execution_count": 20,
   "metadata": {
    "collapsed": false
   },
   "outputs": [
    {
     "data": {
      "text/plain": [
       "(910068, 6)"
      ]
     },
     "execution_count": 20,
     "metadata": {},
     "output_type": "execute_result"
    }
   ],
   "source": [
    "data2.shape"
   ]
  },
  {
   "cell_type": "code",
   "execution_count": 21,
   "metadata": {
    "collapsed": false
   },
   "outputs": [],
   "source": [
    "#http://www.sejm.gov.pl/Sejm8.nsf/agent.xsp?symbol=klubglos&IdGlosowania=46371&KodKlubu=PiS\n",
    "#get individual votes\n",
    "\n",
    "data = pd.DataFrame()\n",
    "cols = ['number','name','vote']\n",
    "\n",
    "for index, row in summary_results_df.iloc[15000:30000].iterrows():\n",
    "    url = 'http://www.sejm.gov.pl/Sejm8.nsf/agent.xsp?symbol=klubglos&IdGlosowania='+str(row['voteId'])+'&KodKlubu='+str(row['club'])\n",
    "    #source = urllib.request.urlopen(url).read()\n",
    "    #soup = bs.BeautifulSoup(source,'lxml')\n",
    "    dfs = pd.read_html(url,header=0,encoding='utf_8')\n",
    "    for df in dfs:\n",
    "        df1 = df.iloc[:,0:3]\n",
    "        df1.columns = cols\n",
    "        df2 = df.iloc[:,3:]\n",
    "        df2.columns = cols\n",
    "        df3 = df1.append(df2)\n",
    "        df3['cadence'] = row['cadence']\n",
    "        df3['club'] = row['club']\n",
    "        df3['voteId'] = row['voteId']\n",
    "    data = data.append(df3)\n"
   ]
  },
  {
   "cell_type": "code",
   "execution_count": 22,
   "metadata": {
    "collapsed": false
   },
   "outputs": [
    {
     "data": {
      "text/plain": [
       "(943612, 6)"
      ]
     },
     "execution_count": 22,
     "metadata": {},
     "output_type": "execute_result"
    }
   ],
   "source": [
    "data.shape"
   ]
  },
  {
   "cell_type": "code",
   "execution_count": 23,
   "metadata": {
    "collapsed": false
   },
   "outputs": [],
   "source": [
    "data2 = data.dropna()\n",
    "data2.to_csv('voting_cadence_7_2_dropna.csv')"
   ]
  },
  {
   "cell_type": "code",
   "execution_count": 24,
   "metadata": {
    "collapsed": false
   },
   "outputs": [
    {
     "data": {
      "text/plain": [
       "(937167, 6)"
      ]
     },
     "execution_count": 24,
     "metadata": {},
     "output_type": "execute_result"
    }
   ],
   "source": [
    "data2.shape"
   ]
  },
  {
   "cell_type": "code",
   "execution_count": 25,
   "metadata": {
    "collapsed": false
   },
   "outputs": [],
   "source": [
    "#http://www.sejm.gov.pl/Sejm8.nsf/agent.xsp?symbol=klubglos&IdGlosowania=46371&KodKlubu=PiS\n",
    "#get individual votes\n",
    "\n",
    "data = pd.DataFrame()\n",
    "cols = ['number','name','vote']\n",
    "\n",
    "for index, row in summary_results_df.iloc[30000:].iterrows():\n",
    "    url = 'http://www.sejm.gov.pl/Sejm8.nsf/agent.xsp?symbol=klubglos&IdGlosowania='+str(row['voteId'])+'&KodKlubu='+str(row['club'])\n",
    "    #source = urllib.request.urlopen(url).read()\n",
    "    #soup = bs.BeautifulSoup(source,'lxml')\n",
    "    dfs = pd.read_html(url,header=0,encoding='utf_8')\n",
    "    for df in dfs:\n",
    "        df1 = df.iloc[:,0:3]\n",
    "        df1.columns = cols\n",
    "        df2 = df.iloc[:,3:]\n",
    "        df2.columns = cols\n",
    "        df3 = df1.append(df2)\n",
    "        df3['cadence'] = row['cadence']\n",
    "        df3['club'] = row['club']\n",
    "        df3['voteId'] = row['voteId']\n",
    "    data = data.append(df3)\n"
   ]
  },
  {
   "cell_type": "code",
   "execution_count": 26,
   "metadata": {
    "collapsed": false
   },
   "outputs": [
    {
     "data": {
      "text/plain": [
       "(1051248, 6)"
      ]
     },
     "execution_count": 26,
     "metadata": {},
     "output_type": "execute_result"
    }
   ],
   "source": [
    "data.shape"
   ]
  },
  {
   "cell_type": "code",
   "execution_count": 27,
   "metadata": {
    "collapsed": false
   },
   "outputs": [],
   "source": [
    "data2 = data.dropna()\n",
    "data2.to_csv('voting_cadence_7_3_dropna.csv')"
   ]
  },
  {
   "cell_type": "code",
   "execution_count": 28,
   "metadata": {
    "collapsed": false
   },
   "outputs": [
    {
     "data": {
      "text/plain": [
       "(1043244, 6)"
      ]
     },
     "execution_count": 28,
     "metadata": {},
     "output_type": "execute_result"
    }
   ],
   "source": [
    "data2.shape"
   ]
  },
  {
   "cell_type": "code",
   "execution_count": null,
   "metadata": {
    "collapsed": true
   },
   "outputs": [],
   "source": []
  }
 ],
 "metadata": {
  "anaconda-cloud": {},
  "kernelspec": {
   "display_name": "Python [conda root]",
   "language": "python",
   "name": "conda-root-py"
  },
  "language_info": {
   "codemirror_mode": {
    "name": "ipython",
    "version": 3
   },
   "file_extension": ".py",
   "mimetype": "text/x-python",
   "name": "python",
   "nbconvert_exporter": "python",
   "pygments_lexer": "ipython3",
   "version": "3.5.2"
  }
 },
 "nbformat": 4,
 "nbformat_minor": 1
}
