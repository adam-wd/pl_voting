{
 "cells": [
  {
   "cell_type": "code",
   "execution_count": 112,
   "metadata": {
    "collapsed": true
   },
   "outputs": [],
   "source": [
    "import numpy as np\n",
    "import pandas as pd\n",
    "import matplotlib\n",
    "import matplotlib.pyplot as plt\n",
    "plt.style.use('fivethirtyeight')\n",
    "%matplotlib inline\n",
    "from IPython.display import display\n",
    "import math\n"
   ]
  },
  {
   "cell_type": "markdown",
   "metadata": {},
   "source": [
    "## import and clean data"
   ]
  },
  {
   "cell_type": "code",
   "execution_count": null,
   "metadata": {
    "collapsed": false
   },
   "outputs": [],
   "source": [
    "data_df = pd.read_csv('voting_cadence_8_dropna.csv')\n",
    "data_df.shape"
   ]
  },
  {
   "cell_type": "code",
   "execution_count": 115,
   "metadata": {
    "collapsed": false
   },
   "outputs": [
    {
     "data": {
      "text/html": [
       "<div>\n",
       "<table border=\"1\" class=\"dataframe\">\n",
       "  <thead>\n",
       "    <tr style=\"text-align: right;\">\n",
       "      <th></th>\n",
       "      <th>name</th>\n",
       "      <th>vote</th>\n",
       "      <th>cadence</th>\n",
       "      <th>club</th>\n",
       "      <th>voteId</th>\n",
       "    </tr>\n",
       "  </thead>\n",
       "  <tbody>\n",
       "    <tr>\n",
       "      <th>0</th>\n",
       "      <td>Abramowicz Adam</td>\n",
       "      <td>Przeciw</td>\n",
       "      <td>8</td>\n",
       "      <td>PiS</td>\n",
       "      <td>46371</td>\n",
       "    </tr>\n",
       "  </tbody>\n",
       "</table>\n",
       "</div>"
      ],
      "text/plain": [
       "              name     vote  cadence club  voteId\n",
       "0  Abramowicz Adam  Przeciw        8  PiS   46371"
      ]
     },
     "execution_count": 115,
     "metadata": {},
     "output_type": "execute_result"
    }
   ],
   "source": [
    "#to do:\n",
    "#basic analysis (number of votes, number of names)\n",
    "    #top voters/ top missing - per person - DONE\n",
    "    #voting homogeinity per club\n",
    "    #pro / against gov (PIS)\n",
    "    #top dissenters from club discipline    \n",
    "\n",
    "#add more after cadence 7 is added\n",
    "data_df.head(1)"
   ]
  },
  {
   "cell_type": "code",
   "execution_count": 4,
   "metadata": {
    "collapsed": false
   },
   "outputs": [
    {
     "data": {
      "text/plain": [
       "Index(['Unnamed: 0', 'number', 'name', 'vote', 'cadence', 'club', 'voteId'], dtype='object')"
      ]
     },
     "execution_count": 4,
     "metadata": {},
     "output_type": "execute_result"
    }
   ],
   "source": [
    "cols = data_df.columns\n",
    "cols"
   ]
  },
  {
   "cell_type": "code",
   "execution_count": 5,
   "metadata": {
    "collapsed": true
   },
   "outputs": [],
   "source": [
    "#remove sloppy saved indexes\n",
    "data_df = data_df.drop([cols[0],cols[1]],1)"
   ]
  },
  {
   "cell_type": "code",
   "execution_count": 6,
   "metadata": {
    "collapsed": true
   },
   "outputs": [
    {
     "data": {
      "text/html": [
       "<div>\n",
       "<table border=\"1\" class=\"dataframe\">\n",
       "  <thead>\n",
       "    <tr style=\"text-align: right;\">\n",
       "      <th></th>\n",
       "      <th>name</th>\n",
       "      <th>vote</th>\n",
       "      <th>cadence</th>\n",
       "      <th>club</th>\n",
       "      <th>voteId</th>\n",
       "    </tr>\n",
       "  </thead>\n",
       "  <tbody>\n",
       "    <tr>\n",
       "      <th>0</th>\n",
       "      <td>Abramowicz Adam</td>\n",
       "      <td>Przeciw</td>\n",
       "      <td>8</td>\n",
       "      <td>PiS</td>\n",
       "      <td>46371</td>\n",
       "    </tr>\n",
       "    <tr>\n",
       "      <th>1</th>\n",
       "      <td>Andzel Waldemar</td>\n",
       "      <td>Przeciw</td>\n",
       "      <td>8</td>\n",
       "      <td>PiS</td>\n",
       "      <td>46371</td>\n",
       "    </tr>\n",
       "    <tr>\n",
       "      <th>2</th>\n",
       "      <td>Ardanowski Jan Krzysztof</td>\n",
       "      <td>Przeciw</td>\n",
       "      <td>8</td>\n",
       "      <td>PiS</td>\n",
       "      <td>46371</td>\n",
       "    </tr>\n",
       "    <tr>\n",
       "      <th>3</th>\n",
       "      <td>Ast Marek</td>\n",
       "      <td>Przeciw</td>\n",
       "      <td>8</td>\n",
       "      <td>PiS</td>\n",
       "      <td>46371</td>\n",
       "    </tr>\n",
       "    <tr>\n",
       "      <th>4</th>\n",
       "      <td>Babiarz Piotr Łukasz</td>\n",
       "      <td>Przeciw</td>\n",
       "      <td>8</td>\n",
       "      <td>PiS</td>\n",
       "      <td>46371</td>\n",
       "    </tr>\n",
       "  </tbody>\n",
       "</table>\n",
       "</div>"
      ],
      "text/plain": [
       "                       name     vote  cadence club  voteId\n",
       "0           Abramowicz Adam  Przeciw        8  PiS   46371\n",
       "1           Andzel Waldemar  Przeciw        8  PiS   46371\n",
       "2  Ardanowski Jan Krzysztof  Przeciw        8  PiS   46371\n",
       "3                 Ast Marek  Przeciw        8  PiS   46371\n",
       "4      Babiarz Piotr Łukasz  Przeciw        8  PiS   46371"
      ]
     },
     "execution_count": 6,
     "metadata": {},
     "output_type": "execute_result"
    }
   ],
   "source": [
    "data_df.reset_index() \n",
    "data_df.head()"
   ]
  },
  {
   "cell_type": "code",
   "execution_count": 7,
   "metadata": {
    "collapsed": false
   },
   "outputs": [
    {
     "data": {
      "text/plain": [
       "{'Nieobecny', 'Przeciw', 'Wstrzymał się', 'Za'}"
      ]
     },
     "execution_count": 7,
     "metadata": {},
     "output_type": "execute_result"
    }
   ],
   "source": [
    "#quick summaries\n",
    "result_set = set(data_df['vote'])\n",
    "result_set"
   ]
  },
  {
   "cell_type": "markdown",
   "metadata": {},
   "source": [
    "## basic analysis (number of votes, number of names)"
   ]
  },
  {
   "cell_type": "code",
   "execution_count": 8,
   "metadata": {
    "collapsed": true
   },
   "outputs": [
    {
     "name": "stdout",
     "output_type": "stream",
     "text": [
      "2579.0\n"
     ]
    }
   ],
   "source": [
    "#checking if data makes sense - most people should have the same number of votes\n",
    "people = data_df.groupby('name').count()\n",
    "votes_cast = people['vote'].median()\n",
    "print(votes_cast)"
   ]
  },
  {
   "cell_type": "code",
   "execution_count": 9,
   "metadata": {
    "collapsed": true
   },
   "outputs": [
    {
     "data": {
      "text/plain": [
       "<matplotlib.axes._subplots.AxesSubplot at 0x1045073c8>"
      ]
     },
     "execution_count": 9,
     "metadata": {},
     "output_type": "execute_result"
    },
    {
     "data": {
      "image/png": "[encoded data removed]",
      "text/plain": [
       "<matplotlib.figure.Figure at 0x104525048>"
      ]
     },
     "metadata": {},
     "output_type": "display_data"
    }
   ],
   "source": [
    "#seems that most people have the same number of votes which is correct\n",
    "people['vote'].plot(kind='bar')"
   ]
  },
  {
   "cell_type": "code",
   "execution_count": 10,
   "metadata": {
    "collapsed": false
   },
   "outputs": [],
   "source": [
    "#get people with club affiliation\n",
    "people_club = data_df.loc[:,['club','name']].drop_duplicates()"
   ]
  },
  {
   "cell_type": "code",
   "execution_count": 11,
   "metadata": {
    "collapsed": false
   },
   "outputs": [
    {
     "data": {
      "text/plain": [
       "(492, 2)"
      ]
     },
     "execution_count": 11,
     "metadata": {},
     "output_type": "execute_result"
    }
   ],
   "source": [
    "people_club.shape"
   ]
  },
  {
   "cell_type": "code",
   "execution_count": 12,
   "metadata": {
    "collapsed": true
   },
   "outputs": [
    {
     "data": {
      "text/html": [
       "<div>\n",
       "<table border=\"1\" class=\"dataframe\">\n",
       "  <thead>\n",
       "    <tr style=\"text-align: right;\">\n",
       "      <th></th>\n",
       "      <th>club</th>\n",
       "      <th>name</th>\n",
       "    </tr>\n",
       "  </thead>\n",
       "  <tbody>\n",
       "    <tr>\n",
       "      <th>6889</th>\n",
       "      <td>ED</td>\n",
       "      <td>Huskowski Stanisław</td>\n",
       "    </tr>\n",
       "    <tr>\n",
       "      <th>6890</th>\n",
       "      <td>ED</td>\n",
       "      <td>Niesiołowski Stefan</td>\n",
       "    </tr>\n",
       "    <tr>\n",
       "      <th>6891</th>\n",
       "      <td>ED</td>\n",
       "      <td>Kamiński Michał</td>\n",
       "    </tr>\n",
       "    <tr>\n",
       "      <th>6892</th>\n",
       "      <td>ED</td>\n",
       "      <td>Protasiewicz Jacek</td>\n",
       "    </tr>\n",
       "    <tr>\n",
       "      <th>1151022</th>\n",
       "      <td>Kukiz15</td>\n",
       "      <td>Sanocki Janusz</td>\n",
       "    </tr>\n",
       "  </tbody>\n",
       "</table>\n",
       "</div>"
      ],
      "text/plain": [
       "            club                 name\n",
       "6889          ED  Huskowski Stanisław\n",
       "6890          ED  Niesiołowski Stefan\n",
       "6891          ED      Kamiński Michał\n",
       "6892          ED   Protasiewicz Jacek\n",
       "1151022  Kukiz15       Sanocki Janusz"
      ]
     },
     "execution_count": 12,
     "metadata": {},
     "output_type": "execute_result"
    }
   ],
   "source": [
    "people_club.sort_values(by='club').head()\n"
   ]
  },
  {
   "cell_type": "markdown",
   "metadata": {},
   "source": [
    "## top voters/ top missing - per person"
   ]
  },
  {
   "cell_type": "code",
   "execution_count": 13,
   "metadata": {
    "collapsed": false
   },
   "outputs": [],
   "source": [
    "# by person, group result set, calculate fraction of all votes, sort people\n",
    "club_people = data_df.groupby(['club','name','vote']).count()\n",
    "\n",
    "#convert index to columns\n",
    "club_people.reset_index(level=club_people.index.names, inplace=True)\n",
    "\n",
    "#drop useless column, change name\n",
    "club_people.drop('voteId',1,inplace=True)\n",
    "club_people.columns = ['club', 'name', 'vote', 'tally']\n",
    "club_people.set_index(['club', 'name','vote'],inplace=True)"
   ]
  },
  {
   "cell_type": "code",
   "execution_count": 14,
   "metadata": {
    "collapsed": true
   },
   "outputs": [
    {
     "data": {
      "text/html": [
       "<div>\n",
       "<table border=\"1\" class=\"dataframe\">\n",
       "  <thead>\n",
       "    <tr style=\"text-align: right;\">\n",
       "      <th></th>\n",
       "      <th></th>\n",
       "      <th></th>\n",
       "      <th>tally</th>\n",
       "    </tr>\n",
       "    <tr>\n",
       "      <th>club</th>\n",
       "      <th>name</th>\n",
       "      <th>vote</th>\n",
       "      <th></th>\n",
       "    </tr>\n",
       "  </thead>\n",
       "  <tbody>\n",
       "    <tr>\n",
       "      <th rowspan=\"5\" valign=\"top\">ED</th>\n",
       "      <th rowspan=\"4\" valign=\"top\">Huskowski Stanisław</th>\n",
       "      <th>Nieobecny</th>\n",
       "      <td>230</td>\n",
       "    </tr>\n",
       "    <tr>\n",
       "      <th>Przeciw</th>\n",
       "      <td>107</td>\n",
       "    </tr>\n",
       "    <tr>\n",
       "      <th>Wstrzymał się</th>\n",
       "      <td>5</td>\n",
       "    </tr>\n",
       "    <tr>\n",
       "      <th>Za</th>\n",
       "      <td>179</td>\n",
       "    </tr>\n",
       "    <tr>\n",
       "      <th>Kamiński Michał</th>\n",
       "      <th>Nieobecny</th>\n",
       "      <td>152</td>\n",
       "    </tr>\n",
       "  </tbody>\n",
       "</table>\n",
       "</div>"
      ],
      "text/plain": [
       "                                        tally\n",
       "club name                vote                \n",
       "ED   Huskowski Stanisław Nieobecny        230\n",
       "                         Przeciw          107\n",
       "                         Wstrzymał się      5\n",
       "                         Za               179\n",
       "     Kamiński Michał     Nieobecny        152"
      ]
     },
     "execution_count": 14,
     "metadata": {},
     "output_type": "execute_result"
    }
   ],
   "source": [
    "club_people.head()"
   ]
  },
  {
   "cell_type": "code",
   "execution_count": 15,
   "metadata": {
    "collapsed": false
   },
   "outputs": [],
   "source": [
    "club_people.unstack()\n",
    "club_people.reset_index(level=club_people.index.names, inplace=True)\n",
    "\n",
    "\n",
    "\n"
   ]
  },
  {
   "cell_type": "code",
   "execution_count": 16,
   "metadata": {
    "collapsed": true
   },
   "outputs": [
    {
     "data": {
      "text/html": [
       "<div>\n",
       "<table border=\"1\" class=\"dataframe\">\n",
       "  <thead>\n",
       "    <tr style=\"text-align: right;\">\n",
       "      <th></th>\n",
       "      <th>club</th>\n",
       "      <th>name</th>\n",
       "      <th>vote</th>\n",
       "      <th>tally</th>\n",
       "    </tr>\n",
       "  </thead>\n",
       "  <tbody>\n",
       "    <tr>\n",
       "      <th>0</th>\n",
       "      <td>ED</td>\n",
       "      <td>Huskowski Stanisław</td>\n",
       "      <td>Nieobecny</td>\n",
       "      <td>230</td>\n",
       "    </tr>\n",
       "    <tr>\n",
       "      <th>1</th>\n",
       "      <td>ED</td>\n",
       "      <td>Huskowski Stanisław</td>\n",
       "      <td>Przeciw</td>\n",
       "      <td>107</td>\n",
       "    </tr>\n",
       "    <tr>\n",
       "      <th>2</th>\n",
       "      <td>ED</td>\n",
       "      <td>Huskowski Stanisław</td>\n",
       "      <td>Wstrzymał się</td>\n",
       "      <td>5</td>\n",
       "    </tr>\n",
       "    <tr>\n",
       "      <th>3</th>\n",
       "      <td>ED</td>\n",
       "      <td>Huskowski Stanisław</td>\n",
       "      <td>Za</td>\n",
       "      <td>179</td>\n",
       "    </tr>\n",
       "    <tr>\n",
       "      <th>4</th>\n",
       "      <td>ED</td>\n",
       "      <td>Kamiński Michał</td>\n",
       "      <td>Nieobecny</td>\n",
       "      <td>152</td>\n",
       "    </tr>\n",
       "    <tr>\n",
       "      <th>5</th>\n",
       "      <td>ED</td>\n",
       "      <td>Kamiński Michał</td>\n",
       "      <td>Przeciw</td>\n",
       "      <td>130</td>\n",
       "    </tr>\n",
       "    <tr>\n",
       "      <th>6</th>\n",
       "      <td>ED</td>\n",
       "      <td>Kamiński Michał</td>\n",
       "      <td>Wstrzymał się</td>\n",
       "      <td>9</td>\n",
       "    </tr>\n",
       "    <tr>\n",
       "      <th>7</th>\n",
       "      <td>ED</td>\n",
       "      <td>Kamiński Michał</td>\n",
       "      <td>Za</td>\n",
       "      <td>230</td>\n",
       "    </tr>\n",
       "    <tr>\n",
       "      <th>8</th>\n",
       "      <td>ED</td>\n",
       "      <td>Niesiołowski Stefan</td>\n",
       "      <td>Nieobecny</td>\n",
       "      <td>46</td>\n",
       "    </tr>\n",
       "    <tr>\n",
       "      <th>9</th>\n",
       "      <td>ED</td>\n",
       "      <td>Niesiołowski Stefan</td>\n",
       "      <td>Przeciw</td>\n",
       "      <td>186</td>\n",
       "    </tr>\n",
       "  </tbody>\n",
       "</table>\n",
       "</div>"
      ],
      "text/plain": [
       "  club                 name           vote  tally\n",
       "0   ED  Huskowski Stanisław      Nieobecny    230\n",
       "1   ED  Huskowski Stanisław        Przeciw    107\n",
       "2   ED  Huskowski Stanisław  Wstrzymał się      5\n",
       "3   ED  Huskowski Stanisław             Za    179\n",
       "4   ED      Kamiński Michał      Nieobecny    152\n",
       "5   ED      Kamiński Michał        Przeciw    130\n",
       "6   ED      Kamiński Michał  Wstrzymał się      9\n",
       "7   ED      Kamiński Michał             Za    230\n",
       "8   ED  Niesiołowski Stefan      Nieobecny     46\n",
       "9   ED  Niesiołowski Stefan        Przeciw    186"
      ]
     },
     "execution_count": 16,
     "metadata": {},
     "output_type": "execute_result"
    }
   ],
   "source": [
    "club_people.head(10)"
   ]
  },
  {
   "cell_type": "code",
   "execution_count": 80,
   "metadata": {
    "collapsed": true
   },
   "outputs": [],
   "source": [
    "#sum of all possible votes\n",
    "club_people_all = club_people.groupby(['club','name']).sum()"
   ]
  },
  {
   "cell_type": "code",
   "execution_count": 81,
   "metadata": {
    "collapsed": true
   },
   "outputs": [
    {
     "data": {
      "text/html": [
       "<div>\n",
       "<table border=\"1\" class=\"dataframe\">\n",
       "  <thead>\n",
       "    <tr style=\"text-align: right;\">\n",
       "      <th></th>\n",
       "      <th>club</th>\n",
       "      <th>name</th>\n",
       "      <th>tally</th>\n",
       "    </tr>\n",
       "  </thead>\n",
       "  <tbody>\n",
       "    <tr>\n",
       "      <th>0</th>\n",
       "      <td>ED</td>\n",
       "      <td>Huskowski Stanisław</td>\n",
       "      <td>521</td>\n",
       "    </tr>\n",
       "    <tr>\n",
       "      <th>1</th>\n",
       "      <td>ED</td>\n",
       "      <td>Kamiński Michał</td>\n",
       "      <td>521</td>\n",
       "    </tr>\n",
       "    <tr>\n",
       "      <th>2</th>\n",
       "      <td>ED</td>\n",
       "      <td>Niesiołowski Stefan</td>\n",
       "      <td>521</td>\n",
       "    </tr>\n",
       "    <tr>\n",
       "      <th>3</th>\n",
       "      <td>ED</td>\n",
       "      <td>Protasiewicz Jacek</td>\n",
       "      <td>521</td>\n",
       "    </tr>\n",
       "    <tr>\n",
       "      <th>4</th>\n",
       "      <td>Kukiz15</td>\n",
       "      <td>Andruszkiewicz Adam</td>\n",
       "      <td>2579</td>\n",
       "    </tr>\n",
       "  </tbody>\n",
       "</table>\n",
       "</div>"
      ],
      "text/plain": [
       "      club                 name  tally\n",
       "0       ED  Huskowski Stanisław    521\n",
       "1       ED      Kamiński Michał    521\n",
       "2       ED  Niesiołowski Stefan    521\n",
       "3       ED   Protasiewicz Jacek    521\n",
       "4  Kukiz15  Andruszkiewicz Adam   2579"
      ]
     },
     "execution_count": 81,
     "metadata": {},
     "output_type": "execute_result"
    }
   ],
   "source": [
    "club_people_all.reset_index(level=club_people_all.index.names, inplace=True)\n",
    "club_people_all.head()"
   ]
  },
  {
   "cell_type": "code",
   "execution_count": 82,
   "metadata": {
    "collapsed": false
   },
   "outputs": [
    {
     "data": {
      "text/plain": [
       "(492, 3)"
      ]
     },
     "execution_count": 82,
     "metadata": {},
     "output_type": "execute_result"
    }
   ],
   "source": [
    "club_people_all.shape"
   ]
  },
  {
   "cell_type": "code",
   "execution_count": 83,
   "metadata": {
    "collapsed": false
   },
   "outputs": [],
   "source": [
    "#sum of missing votes\n",
    "club_people_missing = club_people[club_people['vote']=='Nieobecny']\n",
    "club_people_missing.index = range(len(club_people_missing))\n"
   ]
  },
  {
   "cell_type": "code",
   "execution_count": 84,
   "metadata": {
    "collapsed": true
   },
   "outputs": [
    {
     "data": {
      "text/html": [
       "<div>\n",
       "<table border=\"1\" class=\"dataframe\">\n",
       "  <thead>\n",
       "    <tr style=\"text-align: right;\">\n",
       "      <th></th>\n",
       "      <th>club</th>\n",
       "      <th>name</th>\n",
       "      <th>vote</th>\n",
       "      <th>tally</th>\n",
       "    </tr>\n",
       "  </thead>\n",
       "  <tbody>\n",
       "    <tr>\n",
       "      <th>0</th>\n",
       "      <td>ED</td>\n",
       "      <td>Huskowski Stanisław</td>\n",
       "      <td>Nieobecny</td>\n",
       "      <td>230</td>\n",
       "    </tr>\n",
       "    <tr>\n",
       "      <th>1</th>\n",
       "      <td>ED</td>\n",
       "      <td>Kamiński Michał</td>\n",
       "      <td>Nieobecny</td>\n",
       "      <td>152</td>\n",
       "    </tr>\n",
       "    <tr>\n",
       "      <th>2</th>\n",
       "      <td>ED</td>\n",
       "      <td>Niesiołowski Stefan</td>\n",
       "      <td>Nieobecny</td>\n",
       "      <td>46</td>\n",
       "    </tr>\n",
       "    <tr>\n",
       "      <th>3</th>\n",
       "      <td>ED</td>\n",
       "      <td>Protasiewicz Jacek</td>\n",
       "      <td>Nieobecny</td>\n",
       "      <td>282</td>\n",
       "    </tr>\n",
       "    <tr>\n",
       "      <th>4</th>\n",
       "      <td>Kukiz15</td>\n",
       "      <td>Andruszkiewicz Adam</td>\n",
       "      <td>Nieobecny</td>\n",
       "      <td>257</td>\n",
       "    </tr>\n",
       "  </tbody>\n",
       "</table>\n",
       "</div>"
      ],
      "text/plain": [
       "      club                 name       vote  tally\n",
       "0       ED  Huskowski Stanisław  Nieobecny    230\n",
       "1       ED      Kamiński Michał  Nieobecny    152\n",
       "2       ED  Niesiołowski Stefan  Nieobecny     46\n",
       "3       ED   Protasiewicz Jacek  Nieobecny    282\n",
       "4  Kukiz15  Andruszkiewicz Adam  Nieobecny    257"
      ]
     },
     "execution_count": 84,
     "metadata": {},
     "output_type": "execute_result"
    }
   ],
   "source": [
    "club_people_missing.head()"
   ]
  },
  {
   "cell_type": "code",
   "execution_count": 85,
   "metadata": {
    "collapsed": false
   },
   "outputs": [
    {
     "data": {
      "text/plain": [
       "(485, 4)"
      ]
     },
     "execution_count": 85,
     "metadata": {},
     "output_type": "execute_result"
    }
   ],
   "source": [
    "club_people_missing.shape"
   ]
  },
  {
   "cell_type": "code",
   "execution_count": 86,
   "metadata": {
    "collapsed": false
   },
   "outputs": [],
   "source": [
    "# add the missing tally to club_people_all\n",
    "club_people_all['missing_tally'] = club_people_missing['tally']"
   ]
  },
  {
   "cell_type": "code",
   "execution_count": 87,
   "metadata": {
    "collapsed": false
   },
   "outputs": [],
   "source": [
    "#set missing to 0 for all people who were never missing\n",
    "club_people_all.loc[np.isnan(club_people_all['missing_tally']), 'missing_tally'] = 0"
   ]
  },
  {
   "cell_type": "code",
   "execution_count": 88,
   "metadata": {
    "collapsed": true
   },
   "outputs": [
    {
     "data": {
      "text/html": [
       "<div>\n",
       "<table border=\"1\" class=\"dataframe\">\n",
       "  <thead>\n",
       "    <tr style=\"text-align: right;\">\n",
       "      <th></th>\n",
       "      <th>club</th>\n",
       "      <th>name</th>\n",
       "      <th>tally</th>\n",
       "      <th>missing_tally</th>\n",
       "    </tr>\n",
       "  </thead>\n",
       "  <tbody>\n",
       "    <tr>\n",
       "      <th>0</th>\n",
       "      <td>ED</td>\n",
       "      <td>Huskowski Stanisław</td>\n",
       "      <td>521</td>\n",
       "      <td>230.0</td>\n",
       "    </tr>\n",
       "    <tr>\n",
       "      <th>475</th>\n",
       "      <td>UED</td>\n",
       "      <td>Huskowski Stanisław</td>\n",
       "      <td>167</td>\n",
       "      <td>20.0</td>\n",
       "    </tr>\n",
       "    <tr>\n",
       "      <th>118</th>\n",
       "      <td>PO</td>\n",
       "      <td>Huskowski Stanisław</td>\n",
       "      <td>1753</td>\n",
       "      <td>115.0</td>\n",
       "    </tr>\n",
       "    <tr>\n",
       "      <th>483</th>\n",
       "      <td>niez.</td>\n",
       "      <td>Huskowski Stanisław</td>\n",
       "      <td>138</td>\n",
       "      <td>97.0</td>\n",
       "    </tr>\n",
       "    <tr>\n",
       "      <th>120</th>\n",
       "      <td>PO</td>\n",
       "      <td>Jaros Michał</td>\n",
       "      <td>1463</td>\n",
       "      <td>450.0</td>\n",
       "    </tr>\n",
       "    <tr>\n",
       "      <th>54</th>\n",
       "      <td>N</td>\n",
       "      <td>Jaros Michał</td>\n",
       "      <td>1116</td>\n",
       "      <td>162.0</td>\n",
       "    </tr>\n",
       "    <tr>\n",
       "      <th>1</th>\n",
       "      <td>ED</td>\n",
       "      <td>Kamiński Michał</td>\n",
       "      <td>521</td>\n",
       "      <td>152.0</td>\n",
       "    </tr>\n",
       "    <tr>\n",
       "      <th>122</th>\n",
       "      <td>PO</td>\n",
       "      <td>Kamiński Michał</td>\n",
       "      <td>1753</td>\n",
       "      <td>336.0</td>\n",
       "    </tr>\n",
       "    <tr>\n",
       "      <th>484</th>\n",
       "      <td>niez.</td>\n",
       "      <td>Kamiński Michał</td>\n",
       "      <td>138</td>\n",
       "      <td>86.0</td>\n",
       "    </tr>\n",
       "    <tr>\n",
       "      <th>476</th>\n",
       "      <td>UED</td>\n",
       "      <td>Kamiński Michał</td>\n",
       "      <td>167</td>\n",
       "      <td>17.0</td>\n",
       "    </tr>\n",
       "    <tr>\n",
       "      <th>314</th>\n",
       "      <td>PiS</td>\n",
       "      <td>Klawiter Jan</td>\n",
       "      <td>11</td>\n",
       "      <td>5.0</td>\n",
       "    </tr>\n",
       "    <tr>\n",
       "      <th>485</th>\n",
       "      <td>niez.</td>\n",
       "      <td>Klawiter Jan</td>\n",
       "      <td>2568</td>\n",
       "      <td>0.0</td>\n",
       "    </tr>\n",
       "    <tr>\n",
       "      <th>55</th>\n",
       "      <td>N</td>\n",
       "      <td>Kobyliński Paweł</td>\n",
       "      <td>2335</td>\n",
       "      <td>68.0</td>\n",
       "    </tr>\n",
       "    <tr>\n",
       "      <th>20</th>\n",
       "      <td>Kukiz15</td>\n",
       "      <td>Kobyliński Paweł</td>\n",
       "      <td>176</td>\n",
       "      <td>17.0</td>\n",
       "    </tr>\n",
       "    <tr>\n",
       "      <th>486</th>\n",
       "      <td>niez.</td>\n",
       "      <td>Kobyliński Paweł</td>\n",
       "      <td>68</td>\n",
       "      <td>0.0</td>\n",
       "    </tr>\n",
       "    <tr>\n",
       "      <th>487</th>\n",
       "      <td>niez.</td>\n",
       "      <td>Morawiecki Kornel</td>\n",
       "      <td>130</td>\n",
       "      <td>0.0</td>\n",
       "    </tr>\n",
       "    <tr>\n",
       "      <th>27</th>\n",
       "      <td>Kukiz15</td>\n",
       "      <td>Morawiecki Kornel</td>\n",
       "      <td>1088</td>\n",
       "      <td>323.0</td>\n",
       "    </tr>\n",
       "    <tr>\n",
       "      <th>479</th>\n",
       "      <td>WiS</td>\n",
       "      <td>Morawiecki Kornel</td>\n",
       "      <td>1361</td>\n",
       "      <td>122.0</td>\n",
       "    </tr>\n",
       "    <tr>\n",
       "      <th>160</th>\n",
       "      <td>PO</td>\n",
       "      <td>Niesiołowski Stefan</td>\n",
       "      <td>1891</td>\n",
       "      <td>281.0</td>\n",
       "    </tr>\n",
       "    <tr>\n",
       "      <th>2</th>\n",
       "      <td>ED</td>\n",
       "      <td>Niesiołowski Stefan</td>\n",
       "      <td>521</td>\n",
       "      <td>46.0</td>\n",
       "    </tr>\n",
       "    <tr>\n",
       "      <th>477</th>\n",
       "      <td>UED</td>\n",
       "      <td>Niesiołowski Stefan</td>\n",
       "      <td>167</td>\n",
       "      <td>204.0</td>\n",
       "    </tr>\n",
       "    <tr>\n",
       "      <th>478</th>\n",
       "      <td>UED</td>\n",
       "      <td>Protasiewicz Jacek</td>\n",
       "      <td>167</td>\n",
       "      <td>11.0</td>\n",
       "    </tr>\n",
       "    <tr>\n",
       "      <th>488</th>\n",
       "      <td>niez.</td>\n",
       "      <td>Protasiewicz Jacek</td>\n",
       "      <td>138</td>\n",
       "      <td>0.0</td>\n",
       "    </tr>\n",
       "    <tr>\n",
       "      <th>177</th>\n",
       "      <td>PO</td>\n",
       "      <td>Protasiewicz Jacek</td>\n",
       "      <td>1753</td>\n",
       "      <td>14.0</td>\n",
       "    </tr>\n",
       "    <tr>\n",
       "      <th>3</th>\n",
       "      <td>ED</td>\n",
       "      <td>Protasiewicz Jacek</td>\n",
       "      <td>521</td>\n",
       "      <td>282.0</td>\n",
       "    </tr>\n",
       "    <tr>\n",
       "      <th>34</th>\n",
       "      <td>Kukiz15</td>\n",
       "      <td>Sanocki Janusz</td>\n",
       "      <td>7</td>\n",
       "      <td>145.0</td>\n",
       "    </tr>\n",
       "    <tr>\n",
       "      <th>489</th>\n",
       "      <td>niez.</td>\n",
       "      <td>Sanocki Janusz</td>\n",
       "      <td>2572</td>\n",
       "      <td>0.0</td>\n",
       "    </tr>\n",
       "    <tr>\n",
       "      <th>69</th>\n",
       "      <td>N</td>\n",
       "      <td>Sowa Marek</td>\n",
       "      <td>415</td>\n",
       "      <td>56.0</td>\n",
       "    </tr>\n",
       "    <tr>\n",
       "      <th>192</th>\n",
       "      <td>PO</td>\n",
       "      <td>Sowa Marek</td>\n",
       "      <td>2164</td>\n",
       "      <td>114.0</td>\n",
       "    </tr>\n",
       "    <tr>\n",
       "      <th>490</th>\n",
       "      <td>niez.</td>\n",
       "      <td>Winnicki Robert</td>\n",
       "      <td>1489</td>\n",
       "      <td>0.0</td>\n",
       "    </tr>\n",
       "    <tr>\n",
       "      <th>41</th>\n",
       "      <td>Kukiz15</td>\n",
       "      <td>Winnicki Robert</td>\n",
       "      <td>1090</td>\n",
       "      <td>64.0</td>\n",
       "    </tr>\n",
       "    <tr>\n",
       "      <th>480</th>\n",
       "      <td>WiS</td>\n",
       "      <td>Zwiercan Małgorzata</td>\n",
       "      <td>1361</td>\n",
       "      <td>40.0</td>\n",
       "    </tr>\n",
       "    <tr>\n",
       "      <th>43</th>\n",
       "      <td>Kukiz15</td>\n",
       "      <td>Zwiercan Małgorzata</td>\n",
       "      <td>1088</td>\n",
       "      <td>45.0</td>\n",
       "    </tr>\n",
       "    <tr>\n",
       "      <th>491</th>\n",
       "      <td>niez.</td>\n",
       "      <td>Zwiercan Małgorzata</td>\n",
       "      <td>130</td>\n",
       "      <td>0.0</td>\n",
       "    </tr>\n",
       "    <tr>\n",
       "      <th>481</th>\n",
       "      <td>WiS</td>\n",
       "      <td>Zyska Ireneusz</td>\n",
       "      <td>1361</td>\n",
       "      <td>61.0</td>\n",
       "    </tr>\n",
       "    <tr>\n",
       "      <th>44</th>\n",
       "      <td>Kukiz15</td>\n",
       "      <td>Zyska Ireneusz</td>\n",
       "      <td>1218</td>\n",
       "      <td>171.0</td>\n",
       "    </tr>\n",
       "  </tbody>\n",
       "</table>\n",
       "</div>"
      ],
      "text/plain": [
       "        club                 name  tally  missing_tally\n",
       "0         ED  Huskowski Stanisław    521          230.0\n",
       "475      UED  Huskowski Stanisław    167           20.0\n",
       "118       PO  Huskowski Stanisław   1753          115.0\n",
       "483    niez.  Huskowski Stanisław    138           97.0\n",
       "120       PO         Jaros Michał   1463          450.0\n",
       "54         N         Jaros Michał   1116          162.0\n",
       "1         ED      Kamiński Michał    521          152.0\n",
       "122       PO      Kamiński Michał   1753          336.0\n",
       "484    niez.      Kamiński Michał    138           86.0\n",
       "476      UED      Kamiński Michał    167           17.0\n",
       "314      PiS         Klawiter Jan     11            5.0\n",
       "485    niez.         Klawiter Jan   2568            0.0\n",
       "55         N     Kobyliński Paweł   2335           68.0\n",
       "20   Kukiz15     Kobyliński Paweł    176           17.0\n",
       "486    niez.     Kobyliński Paweł     68            0.0\n",
       "487    niez.    Morawiecki Kornel    130            0.0\n",
       "27   Kukiz15    Morawiecki Kornel   1088          323.0\n",
       "479      WiS    Morawiecki Kornel   1361          122.0\n",
       "160       PO  Niesiołowski Stefan   1891          281.0\n",
       "2         ED  Niesiołowski Stefan    521           46.0\n",
       "477      UED  Niesiołowski Stefan    167          204.0\n",
       "478      UED   Protasiewicz Jacek    167           11.0\n",
       "488    niez.   Protasiewicz Jacek    138            0.0\n",
       "177       PO   Protasiewicz Jacek   1753           14.0\n",
       "3         ED   Protasiewicz Jacek    521          282.0\n",
       "34   Kukiz15       Sanocki Janusz      7          145.0\n",
       "489    niez.       Sanocki Janusz   2572            0.0\n",
       "69         N           Sowa Marek    415           56.0\n",
       "192       PO           Sowa Marek   2164          114.0\n",
       "490    niez.      Winnicki Robert   1489            0.0\n",
       "41   Kukiz15      Winnicki Robert   1090           64.0\n",
       "480      WiS  Zwiercan Małgorzata   1361           40.0\n",
       "43   Kukiz15  Zwiercan Małgorzata   1088           45.0\n",
       "491    niez.  Zwiercan Małgorzata    130            0.0\n",
       "481      WiS       Zyska Ireneusz   1361           61.0\n",
       "44   Kukiz15       Zyska Ireneusz   1218          171.0"
      ]
     },
     "execution_count": 88,
     "metadata": {},
     "output_type": "execute_result"
    }
   ],
   "source": [
    "#check how many people changed clubs\n",
    "club_people_all[club_people_all.duplicated('name', keep=False)].sort_values(by='name')\n"
   ]
  },
  {
   "cell_type": "code",
   "execution_count": 78,
   "metadata": {
    "collapsed": true
   },
   "outputs": [],
   "source": [
    "#sum all votes per person regardless of club\n",
    "people_all = club_people_all.groupby('name').sum()"
   ]
  },
  {
   "cell_type": "code",
   "execution_count": 89,
   "metadata": {
    "collapsed": false
   },
   "outputs": [],
   "source": [
    "# calculate missing votes % per person\n",
    "people_all['missing_pct'] = people_all['missing_tally']/people_all['tally']\n"
   ]
  },
  {
   "cell_type": "code",
   "execution_count": 90,
   "metadata": {
    "collapsed": true
   },
   "outputs": [
    {
     "data": {
      "text/html": [
       "<div>\n",
       "<table border=\"1\" class=\"dataframe\">\n",
       "  <thead>\n",
       "    <tr style=\"text-align: right;\">\n",
       "      <th></th>\n",
       "      <th>tally</th>\n",
       "      <th>missing_tally</th>\n",
       "      <th>missing_pct</th>\n",
       "    </tr>\n",
       "    <tr>\n",
       "      <th>name</th>\n",
       "      <th></th>\n",
       "      <th></th>\n",
       "      <th></th>\n",
       "    </tr>\n",
       "  </thead>\n",
       "  <tbody>\n",
       "    <tr>\n",
       "      <th>Abramowicz Adam</th>\n",
       "      <td>2579</td>\n",
       "      <td>199.0</td>\n",
       "      <td>0.077162</td>\n",
       "    </tr>\n",
       "    <tr>\n",
       "      <th>Adamczyk Andrzej</th>\n",
       "      <td>2579</td>\n",
       "      <td>6.0</td>\n",
       "      <td>0.002326</td>\n",
       "    </tr>\n",
       "    <tr>\n",
       "      <th>Ajchler Zbigniew</th>\n",
       "      <td>2579</td>\n",
       "      <td>38.0</td>\n",
       "      <td>0.014734</td>\n",
       "    </tr>\n",
       "    <tr>\n",
       "      <th>Andruszkiewicz Adam</th>\n",
       "      <td>2579</td>\n",
       "      <td>257.0</td>\n",
       "      <td>0.099651</td>\n",
       "    </tr>\n",
       "    <tr>\n",
       "      <th>Andzel Waldemar</th>\n",
       "      <td>2579</td>\n",
       "      <td>153.0</td>\n",
       "      <td>0.059325</td>\n",
       "    </tr>\n",
       "  </tbody>\n",
       "</table>\n",
       "</div>"
      ],
      "text/plain": [
       "                     tally  missing_tally  missing_pct\n",
       "name                                                  \n",
       "Abramowicz Adam       2579          199.0     0.077162\n",
       "Adamczyk Andrzej      2579            6.0     0.002326\n",
       "Ajchler Zbigniew      2579           38.0     0.014734\n",
       "Andruszkiewicz Adam   2579          257.0     0.099651\n",
       "Andzel Waldemar       2579          153.0     0.059325"
      ]
     },
     "execution_count": 90,
     "metadata": {},
     "output_type": "execute_result"
    }
   ],
   "source": [
    "people_all.head()"
   ]
  },
  {
   "cell_type": "code",
   "execution_count": 93,
   "metadata": {
    "collapsed": false
   },
   "outputs": [],
   "source": [
    "workers = people_all.sort_values('missing_pct',axis=0, ascending=False)"
   ]
  },
  {
   "cell_type": "code",
   "execution_count": 98,
   "metadata": {
    "collapsed": true
   },
   "outputs": [
    {
     "data": {
      "text/html": [
       "<div>\n",
       "<table border=\"1\" class=\"dataframe\">\n",
       "  <thead>\n",
       "    <tr style=\"text-align: right;\">\n",
       "      <th></th>\n",
       "      <th>tally</th>\n",
       "      <th>missing_tally</th>\n",
       "      <th>missing_pct</th>\n",
       "    </tr>\n",
       "    <tr>\n",
       "      <th>name</th>\n",
       "      <th></th>\n",
       "      <th></th>\n",
       "      <th></th>\n",
       "    </tr>\n",
       "  </thead>\n",
       "  <tbody>\n",
       "    <tr>\n",
       "      <th>Jasiński Wojciech</th>\n",
       "      <td>131</td>\n",
       "      <td>466.0</td>\n",
       "      <td>3.557252</td>\n",
       "    </tr>\n",
       "    <tr>\n",
       "      <th>Tomczykiewicz Tomasz</th>\n",
       "      <td>106</td>\n",
       "      <td>232.0</td>\n",
       "      <td>2.188679</td>\n",
       "    </tr>\n",
       "    <tr>\n",
       "      <th>Hoc Czesław</th>\n",
       "      <td>106</td>\n",
       "      <td>209.0</td>\n",
       "      <td>1.971698</td>\n",
       "    </tr>\n",
       "    <tr>\n",
       "      <th>Pszczółkowski Piotr</th>\n",
       "      <td>119</td>\n",
       "      <td>89.0</td>\n",
       "      <td>0.747899</td>\n",
       "    </tr>\n",
       "    <tr>\n",
       "      <th>Mordak Robert</th>\n",
       "      <td>2579</td>\n",
       "      <td>827.0</td>\n",
       "      <td>0.320667</td>\n",
       "    </tr>\n",
       "    <tr>\n",
       "      <th>Tyszka Stanisław</th>\n",
       "      <td>2579</td>\n",
       "      <td>816.0</td>\n",
       "      <td>0.316402</td>\n",
       "    </tr>\n",
       "    <tr>\n",
       "      <th>Żyżyński Jerzy</th>\n",
       "      <td>890</td>\n",
       "      <td>279.0</td>\n",
       "      <td>0.313483</td>\n",
       "    </tr>\n",
       "    <tr>\n",
       "      <th>Paszyk Krzysztof</th>\n",
       "      <td>2579</td>\n",
       "      <td>803.0</td>\n",
       "      <td>0.311361</td>\n",
       "    </tr>\n",
       "    <tr>\n",
       "      <th>Kropiwnicki Robert</th>\n",
       "      <td>2579</td>\n",
       "      <td>777.0</td>\n",
       "      <td>0.301280</td>\n",
       "    </tr>\n",
       "    <tr>\n",
       "      <th>Tokarska Genowefa</th>\n",
       "      <td>2579</td>\n",
       "      <td>775.0</td>\n",
       "      <td>0.300504</td>\n",
       "    </tr>\n",
       "  </tbody>\n",
       "</table>\n",
       "</div>"
      ],
      "text/plain": [
       "                      tally  missing_tally  missing_pct\n",
       "name                                                   \n",
       "Jasiński Wojciech       131          466.0     3.557252\n",
       "Tomczykiewicz Tomasz    106          232.0     2.188679\n",
       "Hoc Czesław             106          209.0     1.971698\n",
       "Pszczółkowski Piotr     119           89.0     0.747899\n",
       "Mordak Robert          2579          827.0     0.320667\n",
       "Tyszka Stanisław       2579          816.0     0.316402\n",
       "Żyżyński Jerzy          890          279.0     0.313483\n",
       "Paszyk Krzysztof       2579          803.0     0.311361\n",
       "Kropiwnicki Robert     2579          777.0     0.301280\n",
       "Tokarska Genowefa      2579          775.0     0.300504"
      ]
     },
     "metadata": {},
     "output_type": "display_data"
    },
    {
     "data": {
      "text/html": [
       "<div>\n",
       "<table border=\"1\" class=\"dataframe\">\n",
       "  <thead>\n",
       "    <tr style=\"text-align: right;\">\n",
       "      <th></th>\n",
       "      <th>tally</th>\n",
       "      <th>missing_tally</th>\n",
       "      <th>missing_pct</th>\n",
       "    </tr>\n",
       "    <tr>\n",
       "      <th>name</th>\n",
       "      <th></th>\n",
       "      <th></th>\n",
       "      <th></th>\n",
       "    </tr>\n",
       "  </thead>\n",
       "  <tbody>\n",
       "    <tr>\n",
       "      <th>Janczyk Wiesław</th>\n",
       "      <td>2579</td>\n",
       "      <td>2.0</td>\n",
       "      <td>0.000775</td>\n",
       "    </tr>\n",
       "    <tr>\n",
       "      <th>Bogucki Jacek</th>\n",
       "      <td>2579</td>\n",
       "      <td>2.0</td>\n",
       "      <td>0.000775</td>\n",
       "    </tr>\n",
       "    <tr>\n",
       "      <th>Golińska Małgorzata</th>\n",
       "      <td>2579</td>\n",
       "      <td>1.0</td>\n",
       "      <td>0.000388</td>\n",
       "    </tr>\n",
       "    <tr>\n",
       "      <th>Polaczek Jerzy</th>\n",
       "      <td>2579</td>\n",
       "      <td>1.0</td>\n",
       "      <td>0.000388</td>\n",
       "    </tr>\n",
       "    <tr>\n",
       "      <th>Kurzępa Jacek</th>\n",
       "      <td>2579</td>\n",
       "      <td>1.0</td>\n",
       "      <td>0.000388</td>\n",
       "    </tr>\n",
       "    <tr>\n",
       "      <th>Piotrowicz Stanisław</th>\n",
       "      <td>2579</td>\n",
       "      <td>1.0</td>\n",
       "      <td>0.000388</td>\n",
       "    </tr>\n",
       "    <tr>\n",
       "      <th>Michałkiewicz Krzysztof</th>\n",
       "      <td>2579</td>\n",
       "      <td>1.0</td>\n",
       "      <td>0.000388</td>\n",
       "    </tr>\n",
       "    <tr>\n",
       "      <th>Soboń Artur</th>\n",
       "      <td>2579</td>\n",
       "      <td>1.0</td>\n",
       "      <td>0.000388</td>\n",
       "    </tr>\n",
       "    <tr>\n",
       "      <th>Kempa Beata</th>\n",
       "      <td>2579</td>\n",
       "      <td>1.0</td>\n",
       "      <td>0.000388</td>\n",
       "    </tr>\n",
       "    <tr>\n",
       "      <th>Kuchciński Marek</th>\n",
       "      <td>2579</td>\n",
       "      <td>1.0</td>\n",
       "      <td>0.000388</td>\n",
       "    </tr>\n",
       "  </tbody>\n",
       "</table>\n",
       "</div>"
      ],
      "text/plain": [
       "                         tally  missing_tally  missing_pct\n",
       "name                                                      \n",
       "Janczyk Wiesław           2579            2.0     0.000775\n",
       "Bogucki Jacek             2579            2.0     0.000775\n",
       "Golińska Małgorzata       2579            1.0     0.000388\n",
       "Polaczek Jerzy            2579            1.0     0.000388\n",
       "Kurzępa Jacek             2579            1.0     0.000388\n",
       "Piotrowicz Stanisław      2579            1.0     0.000388\n",
       "Michałkiewicz Krzysztof   2579            1.0     0.000388\n",
       "Soboń Artur               2579            1.0     0.000388\n",
       "Kempa Beata               2579            1.0     0.000388\n",
       "Kuchciński Marek          2579            1.0     0.000388"
      ]
     },
     "metadata": {},
     "output_type": "display_data"
    }
   ],
   "source": [
    "#show top/bottom workers\n",
    "display(workers.head(10))\n",
    "display(workers.tail(10))"
   ]
  },
  {
   "cell_type": "code",
   "execution_count": 227,
   "metadata": {
    "collapsed": false
   },
   "outputs": [
    {
     "data": {
      "text/plain": [
       "<matplotlib.axes._subplots.AxesSubplot at 0x1299c7cf8>"
      ]
     },
     "execution_count": 227,
     "metadata": {},
     "output_type": "execute_result"
    },
    {
     "data": {
      "image/png": "[encoded data removed]",
      "text/plain": [
       "<matplotlib.figure.Figure at 0x1299c74a8>"
      ]
     },
     "metadata": {},
     "output_type": "display_data"
    }
   ],
   "source": [
    "#plotting histogram zoomed on the 0%-100% missing votes range\n",
    "workers.loc[workers['missing_pct']<1]['missing_pct'].hist()"
   ]
  },
  {
   "cell_type": "markdown",
   "metadata": {},
   "source": [
    "## voting homogeinity"
   ]
  },
  {
   "cell_type": "code",
   "execution_count": 220,
   "metadata": {
    "collapsed": false
   },
   "outputs": [],
   "source": [
    "#for each voting session, check voting homogeinity within the club - median percent of majority vote\n",
    "sessions_stacked = data_df.groupby(['voteId','club','vote']).count()\n",
    "sessions_stacked.drop(sessions_stacked.columns[1],1, inplace=True)\n",
    "sessions_stacked.columns = ['vote_count']"
   ]
  },
  {
   "cell_type": "code",
   "execution_count": 221,
   "metadata": {
    "collapsed": false
   },
   "outputs": [],
   "source": [
    "#sessions = sessions_stacked.unstack()\n",
    "#sessions_stacked.unstack()\n",
    "sessions_stacked.reset_index(sessions_stacked.index.names, inplace=True)"
   ]
  },
  {
   "cell_type": "code",
   "execution_count": 222,
   "metadata": {
    "collapsed": false
   },
   "outputs": [
    {
     "data": {
      "text/html": [
       "<div>\n",
       "<table border=\"1\" class=\"dataframe\">\n",
       "  <thead>\n",
       "    <tr style=\"text-align: right;\">\n",
       "      <th></th>\n",
       "      <th>voteId</th>\n",
       "      <th>club</th>\n",
       "      <th>vote</th>\n",
       "      <th>vote_count</th>\n",
       "    </tr>\n",
       "  </thead>\n",
       "  <tbody>\n",
       "    <tr>\n",
       "      <th>0</th>\n",
       "      <td>43802</td>\n",
       "      <td>Kukiz15</td>\n",
       "      <td>Nieobecny</td>\n",
       "      <td>10</td>\n",
       "    </tr>\n",
       "    <tr>\n",
       "      <th>1</th>\n",
       "      <td>43802</td>\n",
       "      <td>Kukiz15</td>\n",
       "      <td>Przeciw</td>\n",
       "      <td>1</td>\n",
       "    </tr>\n",
       "    <tr>\n",
       "      <th>2</th>\n",
       "      <td>43802</td>\n",
       "      <td>Kukiz15</td>\n",
       "      <td>Wstrzymał się</td>\n",
       "      <td>31</td>\n",
       "    </tr>\n",
       "    <tr>\n",
       "      <th>3</th>\n",
       "      <td>43802</td>\n",
       "      <td>N</td>\n",
       "      <td>Nieobecny</td>\n",
       "      <td>3</td>\n",
       "    </tr>\n",
       "    <tr>\n",
       "      <th>4</th>\n",
       "      <td>43802</td>\n",
       "      <td>N</td>\n",
       "      <td>Za</td>\n",
       "      <td>25</td>\n",
       "    </tr>\n",
       "  </tbody>\n",
       "</table>\n",
       "</div>"
      ],
      "text/plain": [
       "   voteId     club           vote  vote_count\n",
       "0   43802  Kukiz15      Nieobecny          10\n",
       "1   43802  Kukiz15        Przeciw           1\n",
       "2   43802  Kukiz15  Wstrzymał się          31\n",
       "3   43802        N      Nieobecny           3\n",
       "4   43802        N             Za          25"
      ]
     },
     "metadata": {},
     "output_type": "display_data"
    },
    {
     "data": {
      "text/plain": [
       "(38524, 4)"
      ]
     },
     "metadata": {},
     "output_type": "display_data"
    },
    {
     "data": {
      "text/plain": [
       "Index(['voteId', 'club', 'vote', 'vote_count'], dtype='object')"
      ]
     },
     "metadata": {},
     "output_type": "display_data"
    }
   ],
   "source": [
    "display(sessions_stacked.head())\n",
    "display(sessions_stacked.shape)\n",
    "display(sessions_stacked.columns)"
   ]
  },
  {
   "cell_type": "code",
   "execution_count": null,
   "metadata": {
    "collapsed": false
   },
   "outputs": [],
   "source": [
    "#calculate per vote, per club: majority votes, total votes"
   ]
  },
  {
   "cell_type": "code",
   "execution_count": null,
   "metadata": {
    "collapsed": false
   },
   "outputs": [],
   "source": []
  },
  {
   "cell_type": "code",
   "execution_count": 192,
   "metadata": {
    "collapsed": false
   },
   "outputs": [
    {
     "data": {
      "text/plain": [
       "(17523, 4)"
      ]
     },
     "execution_count": 192,
     "metadata": {},
     "output_type": "execute_result"
    }
   ],
   "source": []
  },
  {
   "cell_type": "code",
   "execution_count": 149,
   "metadata": {
    "collapsed": false
   },
   "outputs": [
    {
     "data": {
      "text/html": [
       "<div>\n",
       "<table border=\"1\" class=\"dataframe\">\n",
       "  <thead>\n",
       "    <tr>\n",
       "      <th></th>\n",
       "      <th>voteId</th>\n",
       "      <th>club</th>\n",
       "      <th colspan=\"4\" halign=\"left\">vote_count</th>\n",
       "    </tr>\n",
       "    <tr>\n",
       "      <th>vote</th>\n",
       "      <th></th>\n",
       "      <th></th>\n",
       "      <th>Nieobecny</th>\n",
       "      <th>Przeciw</th>\n",
       "      <th>Wstrzymał się</th>\n",
       "      <th>Za</th>\n",
       "    </tr>\n",
       "  </thead>\n",
       "  <tbody>\n",
       "    <tr>\n",
       "      <th>0</th>\n",
       "      <td>43802</td>\n",
       "      <td>Kukiz15</td>\n",
       "      <td>10.0</td>\n",
       "      <td>1.0</td>\n",
       "      <td>31.0</td>\n",
       "      <td>0.0</td>\n",
       "    </tr>\n",
       "    <tr>\n",
       "      <th>1</th>\n",
       "      <td>43802</td>\n",
       "      <td>N</td>\n",
       "      <td>3.0</td>\n",
       "      <td>0.0</td>\n",
       "      <td>0.0</td>\n",
       "      <td>25.0</td>\n",
       "    </tr>\n",
       "    <tr>\n",
       "      <th>2</th>\n",
       "      <td>43802</td>\n",
       "      <td>PO</td>\n",
       "      <td>6.0</td>\n",
       "      <td>0.0</td>\n",
       "      <td>0.0</td>\n",
       "      <td>132.0</td>\n",
       "    </tr>\n",
       "    <tr>\n",
       "      <th>3</th>\n",
       "      <td>43802</td>\n",
       "      <td>PSL</td>\n",
       "      <td>0.0</td>\n",
       "      <td>0.0</td>\n",
       "      <td>0.0</td>\n",
       "      <td>16.0</td>\n",
       "    </tr>\n",
       "    <tr>\n",
       "      <th>4</th>\n",
       "      <td>43802</td>\n",
       "      <td>PiS</td>\n",
       "      <td>3.0</td>\n",
       "      <td>232.0</td>\n",
       "      <td>0.0</td>\n",
       "      <td>0.0</td>\n",
       "    </tr>\n",
       "  </tbody>\n",
       "</table>\n",
       "</div>"
      ],
      "text/plain": [
       "     voteId     club vote_count                             \n",
       "vote                  Nieobecny Przeciw Wstrzymał się     Za\n",
       "0     43802  Kukiz15       10.0     1.0          31.0    0.0\n",
       "1     43802        N        3.0     0.0           0.0   25.0\n",
       "2     43802       PO        6.0     0.0           0.0  132.0\n",
       "3     43802      PSL        0.0     0.0           0.0   16.0\n",
       "4     43802      PiS        3.0   232.0           0.0    0.0"
      ]
     },
     "execution_count": 149,
     "metadata": {},
     "output_type": "execute_result"
    }
   ],
   "source": [
    "sessions.head()"
   ]
  },
  {
   "cell_type": "code",
   "execution_count": null,
   "metadata": {
    "collapsed": true
   },
   "outputs": [],
   "source": []
  }
 ],
 "metadata": {
  "anaconda-cloud": {},
  "kernelspec": {
   "display_name": "Python [conda root]",
   "language": "python",
   "name": "conda-root-py"
  },
  "language_info": {
   "codemirror_mode": {
    "name": "ipython",
    "version": 3
   },
   "file_extension": ".py",
   "mimetype": "text/x-python",
   "name": "python",
   "nbconvert_exporter": "python",
   "pygments_lexer": "ipython3",
   "version": "3.5.2"
  }
 },
 "nbformat": 4,
 "nbformat_minor": 1
}
