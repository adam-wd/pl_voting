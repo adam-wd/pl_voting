{
 "cells": [
  {
   "cell_type": "markdown",
   "metadata": {},
   "source": [
    "### Cztery miliony głosów\n",
    "#### 5 lat głosowań w Polskim Parlamencie - zakończona kadencja 7 i bierząca kadencja 8"
   ]
  },
  {
   "cell_type": "markdown",
   "metadata": {},
   "source": [
    "Szukajac ciekawych danych do zabawy znalazłem dane o indywidualnych głosach oddanych w sejmie kadencji 7 oraz 8 (http://www.sejm.gov.pl/) dane były rozrzucone na sporej ilości podstron (około 70 tysięcy!!!), ale dzięki modułowi *Beautiful Soup* oraz odrobinie cierpliwości udało mi się je sciągnąć do jednego pliku.\n",
    "\n",
    "Gdyby ktoś chciał to robić ręcznie i potrafił pracując bez przerwy kopiować 1 tabelkę na 5 sekund, zajęłoby mu to 100 godzin pracy..., nieźle jak na dane publiczne :)"
   ]
  },
  {
   "cell_type": "markdown",
   "metadata": {},
   "source": [
    "#### Wstępne spojrzenie na dane"
   ]
  },
  {
   "cell_type": "code",
   "execution_count": 69,
   "metadata": {
    "collapsed": false
   },
   "outputs": [],
   "source": [
    "import math\n",
    "import numpy as np\n",
    "import pandas as pd\n",
    "import matplotlib\n",
    "import matplotlib.pyplot as plt\n",
    "plt.style.use('fivethirtyeight')\n",
    "%matplotlib inline\n",
    "from IPython.display import display\n",
    "# -*- coding: utf-8 -*-\n",
    "matplotlib.rc('font', family='Arial')"
   ]
  },
  {
   "cell_type": "code",
   "execution_count": 71,
   "metadata": {
    "collapsed": false
   },
   "outputs": [
    {
     "data": {
      "text/plain": [
       "(4076533, 5)"
      ]
     },
     "execution_count": 71,
     "metadata": {},
     "output_type": "execute_result"
    }
   ],
   "source": [
    "#read data\n",
    "#previous parliment term\n",
    "data_7_1 = pd.read_csv('voting_cadence_7_1_dropna.csv')\n",
    "data_7_2 = pd.read_csv('voting_cadence_7_2_dropna.csv')\n",
    "data_7_3 = pd.read_csv('voting_cadence_7_3_dropna.csv')\n",
    "#current parliment term\n",
    "data_8 = pd.read_csv('voting_cadence_8_dropna.csv')\n",
    "\n",
    "#combine data\n",
    "df = data_7_1.append([data_7_2,data_7_3,data_8])\n",
    "#drop counters and old materialized index\n",
    "df = df.drop([df.columns[0],df.columns[1]],1)\n",
    "#rearrange columns\n",
    "df = df[['cadence','voteId','club','name','vote']]\n",
    "#sort\n",
    "df.sort_values(by=['cadence','voteId','club','name'], inplace=True)\n",
    "\n",
    "df_ind = df.copy()\n",
    "\n",
    "df.shape"
   ]
  },
  {
   "cell_type": "markdown",
   "metadata": {},
   "source": [
    "* kadencja 7 oznacza poprzedni sejm (PO/PSL)\n",
    "* kadencja 8 to bierzący sejm (PiS)\n",
    "* voteId nie ma znaczenia, ale jest skorelowane z datami głosowań (przyda się jeżeli będziemy chcieli pokazać jakieś zmiany w czasie bardziej szczegółowe niż tylko pomiędzy kadencjami)"
   ]
  },
  {
   "cell_type": "code",
   "execution_count": 35,
   "metadata": {
    "collapsed": false
   },
   "outputs": [
    {
     "data": {
      "text/html": [
       "<div>\n",
       "<table border=\"1\" class=\"dataframe\">\n",
       "  <thead>\n",
       "    <tr style=\"text-align: right;\">\n",
       "      <th></th>\n",
       "      <th>cadence</th>\n",
       "      <th>voteId</th>\n",
       "      <th>club</th>\n",
       "      <th>name</th>\n",
       "      <th>vote</th>\n",
       "    </tr>\n",
       "  </thead>\n",
       "  <tbody>\n",
       "    <tr>\n",
       "      <th>1024400</th>\n",
       "      <td>7</td>\n",
       "      <td>37494</td>\n",
       "      <td>PO</td>\n",
       "      <td>Adamczak Małgorzata</td>\n",
       "      <td>Przeciw</td>\n",
       "    </tr>\n",
       "    <tr>\n",
       "      <th>1024504</th>\n",
       "      <td>7</td>\n",
       "      <td>37494</td>\n",
       "      <td>PO</td>\n",
       "      <td>Arkit Tadeusz</td>\n",
       "      <td>Przeciw</td>\n",
       "    </tr>\n",
       "    <tr>\n",
       "      <th>1024505</th>\n",
       "      <td>7</td>\n",
       "      <td>37494</td>\n",
       "      <td>PO</td>\n",
       "      <td>Arndt Paweł</td>\n",
       "      <td>Przeciw</td>\n",
       "    </tr>\n",
       "  </tbody>\n",
       "</table>\n",
       "</div>"
      ],
      "text/plain": [
       "         cadence  voteId club                 name     vote\n",
       "1024400        7   37494   PO  Adamczak Małgorzata  Przeciw\n",
       "1024504        7   37494   PO        Arkit Tadeusz  Przeciw\n",
       "1024505        7   37494   PO          Arndt Paweł  Przeciw"
      ]
     },
     "execution_count": 35,
     "metadata": {},
     "output_type": "execute_result"
    }
   ],
   "source": [
    "df.head(3)"
   ]
  },
  {
   "cell_type": "markdown",
   "metadata": {},
   "source": [
    "Zobaczmy czy dane mają sens:"
   ]
  },
  {
   "cell_type": "code",
   "execution_count": 36,
   "metadata": {
    "collapsed": false
   },
   "outputs": [
    {
     "data": {
      "text/plain": [
       "{'BC',\n",
       " 'BiG',\n",
       " 'ID',\n",
       " 'KPSP',\n",
       " 'PO',\n",
       " 'PSL',\n",
       " 'PiS',\n",
       " 'RP',\n",
       " 'SLD',\n",
       " 'SP',\n",
       " 'TR',\n",
       " 'ZP',\n",
       " 'niez.'}"
      ]
     },
     "metadata": {},
     "output_type": "display_data"
    },
    {
     "data": {
      "text/plain": [
       "{'ED', 'Kukiz15', 'N', 'PO', 'PSL', 'PiS', 'UED', 'WiS', 'niez.'}"
      ]
     },
     "metadata": {},
     "output_type": "display_data"
    }
   ],
   "source": [
    "#parlimentary clubs in cadences 7 and 8\n",
    "clubs_7= set(df[df['cadence']==7]['club'])\n",
    "clubs_8= set(df[df['cadence']==8]['club'])\n",
    "\n",
    "display(clubs_7)\n",
    "display(clubs_8)"
   ]
  },
  {
   "cell_type": "code",
   "execution_count": 37,
   "metadata": {
    "collapsed": false
   },
   "outputs": [
    {
     "data": {
      "text/plain": [
       "{'Nieobecny', 'Przeciw', 'Wstrzymał się', 'Za'}"
      ]
     },
     "execution_count": 37,
     "metadata": {},
     "output_type": "execute_result"
    }
   ],
   "source": [
    "#votes\n",
    "vote_set = set(df['vote'])\n",
    "vote_set\n",
    "\n",
    "#Missing,      Against,   Abstain,         For"
   ]
  },
  {
   "cell_type": "markdown",
   "metadata": {},
   "source": [
    "Kluby się zgadzają, zakres możliwych wyników głosowań także.\n"
   ]
  },
  {
   "cell_type": "markdown",
   "metadata": {},
   "source": [
    "#### Dodajmy do naszych danych trochę ciekawszych statystyk\n",
    "W podziale na kadencje i kluby:\n",
    "* Średni % nieobecności per głosowanie\n",
    "* Średnia dyscyplina per głosowanie (% głosujących zgodnie z linią klubu)\n",
    "* Średnia zgodność głosowania klubu z głosowaniem partii rządzącej (na skali +1 / -1)"
   ]
  },
  {
   "cell_type": "code",
   "execution_count": 38,
   "metadata": {
    "collapsed": false
   },
   "outputs": [],
   "source": [
    "## restart from here\n",
    "\n",
    "#group vote counts, unstack results to separate columns, fill missing values with zeros\n",
    "df_grp = df.groupby(['cadence','voteId','club','vote']).count().unstack().fillna(0)\n"
   ]
  },
  {
   "cell_type": "code",
   "execution_count": 39,
   "metadata": {
    "collapsed": false
   },
   "outputs": [
    {
     "data": {
      "text/html": [
       "<div>\n",
       "<table border=\"1\" class=\"dataframe\">\n",
       "  <thead>\n",
       "    <tr>\n",
       "      <th></th>\n",
       "      <th></th>\n",
       "      <th></th>\n",
       "      <th colspan=\"4\" halign=\"left\">name</th>\n",
       "    </tr>\n",
       "    <tr>\n",
       "      <th></th>\n",
       "      <th></th>\n",
       "      <th>vote</th>\n",
       "      <th>Nieobecny</th>\n",
       "      <th>Przeciw</th>\n",
       "      <th>Wstrzymał się</th>\n",
       "      <th>Za</th>\n",
       "    </tr>\n",
       "    <tr>\n",
       "      <th>cadence</th>\n",
       "      <th>voteId</th>\n",
       "      <th>club</th>\n",
       "      <th></th>\n",
       "      <th></th>\n",
       "      <th></th>\n",
       "      <th></th>\n",
       "    </tr>\n",
       "  </thead>\n",
       "  <tbody>\n",
       "    <tr>\n",
       "      <th rowspan=\"5\" valign=\"top\">7</th>\n",
       "      <th rowspan=\"5\" valign=\"top\">37494</th>\n",
       "      <th>PO</th>\n",
       "      <td>4.0</td>\n",
       "      <td>203.0</td>\n",
       "      <td>0.0</td>\n",
       "      <td>0.0</td>\n",
       "    </tr>\n",
       "    <tr>\n",
       "      <th>PSL</th>\n",
       "      <td>3.0</td>\n",
       "      <td>25.0</td>\n",
       "      <td>0.0</td>\n",
       "      <td>0.0</td>\n",
       "    </tr>\n",
       "    <tr>\n",
       "      <th>PiS</th>\n",
       "      <td>5.0</td>\n",
       "      <td>0.0</td>\n",
       "      <td>0.0</td>\n",
       "      <td>133.0</td>\n",
       "    </tr>\n",
       "    <tr>\n",
       "      <th>RP</th>\n",
       "      <td>1.0</td>\n",
       "      <td>38.0</td>\n",
       "      <td>0.0</td>\n",
       "      <td>2.0</td>\n",
       "    </tr>\n",
       "    <tr>\n",
       "      <th>SLD</th>\n",
       "      <td>2.0</td>\n",
       "      <td>24.0</td>\n",
       "      <td>0.0</td>\n",
       "      <td>0.0</td>\n",
       "    </tr>\n",
       "  </tbody>\n",
       "</table>\n",
       "</div>"
      ],
      "text/plain": [
       "                         name                             \n",
       "vote                Nieobecny Przeciw Wstrzymał się     Za\n",
       "cadence voteId club                                       \n",
       "7       37494  PO         4.0   203.0           0.0    0.0\n",
       "               PSL        3.0    25.0           0.0    0.0\n",
       "               PiS        5.0     0.0           0.0  133.0\n",
       "               RP         1.0    38.0           0.0    2.0\n",
       "               SLD        2.0    24.0           0.0    0.0"
      ]
     },
     "execution_count": 39,
     "metadata": {},
     "output_type": "execute_result"
    }
   ],
   "source": [
    "df_grp.head()"
   ]
  },
  {
   "cell_type": "code",
   "execution_count": 40,
   "metadata": {
    "collapsed": false
   },
   "outputs": [],
   "source": [
    "#materialize the new index\n",
    "df_grp.reset_index(col_level=1,inplace=True)"
   ]
  },
  {
   "cell_type": "code",
   "execution_count": 41,
   "metadata": {
    "collapsed": false
   },
   "outputs": [
    {
     "data": {
      "text/html": [
       "<div>\n",
       "<table border=\"1\" class=\"dataframe\">\n",
       "  <thead>\n",
       "    <tr>\n",
       "      <th></th>\n",
       "      <th colspan=\"3\" halign=\"left\"></th>\n",
       "      <th colspan=\"4\" halign=\"left\">name</th>\n",
       "    </tr>\n",
       "    <tr>\n",
       "      <th>vote</th>\n",
       "      <th>cadence</th>\n",
       "      <th>voteId</th>\n",
       "      <th>club</th>\n",
       "      <th>Nieobecny</th>\n",
       "      <th>Przeciw</th>\n",
       "      <th>Wstrzymał się</th>\n",
       "      <th>Za</th>\n",
       "    </tr>\n",
       "  </thead>\n",
       "  <tbody>\n",
       "    <tr>\n",
       "      <th>0</th>\n",
       "      <td>7</td>\n",
       "      <td>37494</td>\n",
       "      <td>PO</td>\n",
       "      <td>4.0</td>\n",
       "      <td>203.0</td>\n",
       "      <td>0.0</td>\n",
       "      <td>0.0</td>\n",
       "    </tr>\n",
       "    <tr>\n",
       "      <th>1</th>\n",
       "      <td>7</td>\n",
       "      <td>37494</td>\n",
       "      <td>PSL</td>\n",
       "      <td>3.0</td>\n",
       "      <td>25.0</td>\n",
       "      <td>0.0</td>\n",
       "      <td>0.0</td>\n",
       "    </tr>\n",
       "    <tr>\n",
       "      <th>2</th>\n",
       "      <td>7</td>\n",
       "      <td>37494</td>\n",
       "      <td>PiS</td>\n",
       "      <td>5.0</td>\n",
       "      <td>0.0</td>\n",
       "      <td>0.0</td>\n",
       "      <td>133.0</td>\n",
       "    </tr>\n",
       "  </tbody>\n",
       "</table>\n",
       "</div>"
      ],
      "text/plain": [
       "                              name                             \n",
       "vote cadence voteId club Nieobecny Przeciw Wstrzymał się     Za\n",
       "0          7  37494   PO       4.0   203.0           0.0    0.0\n",
       "1          7  37494  PSL       3.0    25.0           0.0    0.0\n",
       "2          7  37494  PiS       5.0     0.0           0.0  133.0"
      ]
     },
     "execution_count": 41,
     "metadata": {},
     "output_type": "execute_result"
    }
   ],
   "source": [
    "df_grp.head(3)"
   ]
  },
  {
   "cell_type": "code",
   "execution_count": 42,
   "metadata": {
    "collapsed": false
   },
   "outputs": [
    {
     "data": {
      "text/html": [
       "<div>\n",
       "<table border=\"1\" class=\"dataframe\">\n",
       "  <thead>\n",
       "    <tr style=\"text-align: right;\">\n",
       "      <th>vote</th>\n",
       "      <th>cadence</th>\n",
       "      <th>voteId</th>\n",
       "      <th>club</th>\n",
       "      <th>Nieobecny</th>\n",
       "      <th>Przeciw</th>\n",
       "      <th>Wstrzymał się</th>\n",
       "      <th>Za</th>\n",
       "    </tr>\n",
       "  </thead>\n",
       "  <tbody>\n",
       "    <tr>\n",
       "      <th>0</th>\n",
       "      <td>7</td>\n",
       "      <td>37494</td>\n",
       "      <td>PO</td>\n",
       "      <td>4.0</td>\n",
       "      <td>203.0</td>\n",
       "      <td>0.0</td>\n",
       "      <td>0.0</td>\n",
       "    </tr>\n",
       "    <tr>\n",
       "      <th>1</th>\n",
       "      <td>7</td>\n",
       "      <td>37494</td>\n",
       "      <td>PSL</td>\n",
       "      <td>3.0</td>\n",
       "      <td>25.0</td>\n",
       "      <td>0.0</td>\n",
       "      <td>0.0</td>\n",
       "    </tr>\n",
       "    <tr>\n",
       "      <th>2</th>\n",
       "      <td>7</td>\n",
       "      <td>37494</td>\n",
       "      <td>PiS</td>\n",
       "      <td>5.0</td>\n",
       "      <td>0.0</td>\n",
       "      <td>0.0</td>\n",
       "      <td>133.0</td>\n",
       "    </tr>\n",
       "    <tr>\n",
       "      <th>3</th>\n",
       "      <td>7</td>\n",
       "      <td>37494</td>\n",
       "      <td>RP</td>\n",
       "      <td>1.0</td>\n",
       "      <td>38.0</td>\n",
       "      <td>0.0</td>\n",
       "      <td>2.0</td>\n",
       "    </tr>\n",
       "    <tr>\n",
       "      <th>4</th>\n",
       "      <td>7</td>\n",
       "      <td>37494</td>\n",
       "      <td>SLD</td>\n",
       "      <td>2.0</td>\n",
       "      <td>24.0</td>\n",
       "      <td>0.0</td>\n",
       "      <td>0.0</td>\n",
       "    </tr>\n",
       "  </tbody>\n",
       "</table>\n",
       "</div>"
      ],
      "text/plain": [
       "vote  cadence  voteId club  Nieobecny  Przeciw  Wstrzymał się     Za\n",
       "0           7   37494   PO        4.0    203.0            0.0    0.0\n",
       "1           7   37494  PSL        3.0     25.0            0.0    0.0\n",
       "2           7   37494  PiS        5.0      0.0            0.0  133.0\n",
       "3           7   37494   RP        1.0     38.0            0.0    2.0\n",
       "4           7   37494  SLD        2.0     24.0            0.0    0.0"
      ]
     },
     "execution_count": 42,
     "metadata": {},
     "output_type": "execute_result"
    }
   ],
   "source": [
    "#flatten index\n",
    "df_grp.columns = df_grp.columns.get_level_values(1)\n",
    "df_grp.head()"
   ]
  },
  {
   "cell_type": "code",
   "execution_count": 43,
   "metadata": {
    "collapsed": false
   },
   "outputs": [],
   "source": [
    "#add columns for calculations\n",
    "#sum of votes\n",
    "df_grp['all'] = df_grp['Nieobecny']+df_grp['Przeciw']+df_grp['Wstrzymał się']+df_grp['Za']\n"
   ]
  },
  {
   "cell_type": "code",
   "execution_count": 44,
   "metadata": {
    "collapsed": false
   },
   "outputs": [],
   "source": [
    "#set majority voting direction column (for == 1, against == -1, abstain+missing = -1)\n",
    "def set_dir(nieobecny, przeciw, wstrzymal, za, gov=False):\n",
    "    if gov:\n",
    "        if za >= (przeciw + wstrzymal + nieobecny):\n",
    "            return 1\n",
    "        else:\n",
    "            return -1\n",
    "    else:\n",
    "        if (za >= nieobecny or (przeciw + wstrzymal) >= nieobecny):\n",
    "            if za >= (przeciw + wstrzymal):\n",
    "                return 1\n",
    "            else:\n",
    "                return -1\n",
    "        else:\n",
    "            return -1 #changed from zero to simplify > nieobecny == against\n",
    "        \n",
    "        \n",
    "df_grp['direction'] = df_grp.apply(lambda x: set_dir(x['Nieobecny'], x['Przeciw'], x['Wstrzymał się'], x['Za']), axis=1)\n"
   ]
  },
  {
   "cell_type": "code",
   "execution_count": 45,
   "metadata": {
    "collapsed": false
   },
   "outputs": [
    {
     "data": {
      "text/html": [
       "<div>\n",
       "<table border=\"1\" class=\"dataframe\">\n",
       "  <thead>\n",
       "    <tr style=\"text-align: right;\">\n",
       "      <th>vote</th>\n",
       "      <th>cadence</th>\n",
       "      <th>voteId</th>\n",
       "      <th>club</th>\n",
       "      <th>Nieobecny</th>\n",
       "      <th>Przeciw</th>\n",
       "      <th>Wstrzymał się</th>\n",
       "      <th>Za</th>\n",
       "      <th>all</th>\n",
       "      <th>direction</th>\n",
       "    </tr>\n",
       "  </thead>\n",
       "  <tbody>\n",
       "    <tr>\n",
       "      <th>63628</th>\n",
       "      <td>8</td>\n",
       "      <td>46384</td>\n",
       "      <td>UED</td>\n",
       "      <td>4.0</td>\n",
       "      <td>0.0</td>\n",
       "      <td>0.0</td>\n",
       "      <td>0.0</td>\n",
       "      <td>4.0</td>\n",
       "      <td>-1</td>\n",
       "    </tr>\n",
       "    <tr>\n",
       "      <th>63629</th>\n",
       "      <td>8</td>\n",
       "      <td>46384</td>\n",
       "      <td>WiS</td>\n",
       "      <td>1.0</td>\n",
       "      <td>2.0</td>\n",
       "      <td>0.0</td>\n",
       "      <td>0.0</td>\n",
       "      <td>3.0</td>\n",
       "      <td>-1</td>\n",
       "    </tr>\n",
       "    <tr>\n",
       "      <th>63630</th>\n",
       "      <td>8</td>\n",
       "      <td>46384</td>\n",
       "      <td>niez.</td>\n",
       "      <td>1.0</td>\n",
       "      <td>1.0</td>\n",
       "      <td>2.0</td>\n",
       "      <td>0.0</td>\n",
       "      <td>4.0</td>\n",
       "      <td>-1</td>\n",
       "    </tr>\n",
       "  </tbody>\n",
       "</table>\n",
       "</div>"
      ],
      "text/plain": [
       "vote   cadence  voteId   club  Nieobecny  Przeciw  Wstrzymał się   Za  all  \\\n",
       "63628        8   46384    UED        4.0      0.0            0.0  0.0  4.0   \n",
       "63629        8   46384    WiS        1.0      2.0            0.0  0.0  3.0   \n",
       "63630        8   46384  niez.        1.0      1.0            2.0  0.0  4.0   \n",
       "\n",
       "vote   direction  \n",
       "63628         -1  \n",
       "63629         -1  \n",
       "63630         -1  "
      ]
     },
     "execution_count": 45,
     "metadata": {},
     "output_type": "execute_result"
    }
   ],
   "source": [
    "df_grp.tail(3)"
   ]
  },
  {
   "cell_type": "code",
   "execution_count": 46,
   "metadata": {
    "collapsed": false
   },
   "outputs": [],
   "source": [
    "#find government vote direction\n",
    "df_govt_7 = df_grp.loc[(df_grp['club']=='PO') & (df_grp['cadence']==7)]\n",
    "df_govt_8 = df_grp.loc[(df_grp['club']=='PiS') & (df_grp['cadence']==8)]\n",
    "df_govt = df_govt_7.append(df_govt_8)\n",
    "\n",
    "df_govt['direction_gov'] = df_govt.apply(lambda x: set_dir(x['Nieobecny'], x['Przeciw'], x['Wstrzymał się'], x['Za'], gov=True), axis=1)\n",
    "df_to_merge = df_govt[['voteId','direction_gov']]\n"
   ]
  },
  {
   "cell_type": "code",
   "execution_count": 47,
   "metadata": {
    "collapsed": true
   },
   "outputs": [],
   "source": [
    "#merge government voting direction back to grouped df\n",
    "df_grp = pd.merge(df_grp,df_to_merge,on=['voteId'])"
   ]
  },
  {
   "cell_type": "code",
   "execution_count": 48,
   "metadata": {
    "collapsed": false
   },
   "outputs": [],
   "source": [
    "#compliance score\n",
    "df_grp['gov_compliance'] = df_grp['direction'] * df_grp['direction_gov']\n",
    "#missing pct\n",
    "df_grp['missing_pct'] = df_grp['Nieobecny']/df_grp['all']\n",
    "    #if missing is the majority vote then missing % == 0\n",
    "df_grp.loc[df_grp['gov_compliance']==0,'missing_pct'] = 0\n",
    "#discipline\n",
    "df_grp['max_vote'] = df_grp[['Nieobecny','Przeciw','Wstrzymał się','Za']].max(axis=1)\n",
    "df_grp['discipline'] = df_grp['max_vote']/df_grp['all']"
   ]
  },
  {
   "cell_type": "code",
   "execution_count": 49,
   "metadata": {
    "collapsed": false
   },
   "outputs": [
    {
     "data": {
      "text/html": [
       "<div>\n",
       "<table border=\"1\" class=\"dataframe\">\n",
       "  <thead>\n",
       "    <tr style=\"text-align: right;\">\n",
       "      <th>vote</th>\n",
       "      <th>cadence</th>\n",
       "      <th>voteId</th>\n",
       "      <th>club</th>\n",
       "      <th>Nieobecny</th>\n",
       "      <th>Przeciw</th>\n",
       "      <th>Wstrzymał się</th>\n",
       "      <th>Za</th>\n",
       "      <th>all</th>\n",
       "      <th>direction</th>\n",
       "      <th>direction_gov</th>\n",
       "      <th>gov_compliance</th>\n",
       "      <th>missing_pct</th>\n",
       "      <th>max_vote</th>\n",
       "      <th>discipline</th>\n",
       "    </tr>\n",
       "  </thead>\n",
       "  <tbody>\n",
       "    <tr>\n",
       "      <th>63628</th>\n",
       "      <td>8</td>\n",
       "      <td>46384</td>\n",
       "      <td>UED</td>\n",
       "      <td>4.0</td>\n",
       "      <td>0.0</td>\n",
       "      <td>0.0</td>\n",
       "      <td>0.0</td>\n",
       "      <td>4.0</td>\n",
       "      <td>-1</td>\n",
       "      <td>-1</td>\n",
       "      <td>1</td>\n",
       "      <td>1.000000</td>\n",
       "      <td>4.0</td>\n",
       "      <td>1.000000</td>\n",
       "    </tr>\n",
       "    <tr>\n",
       "      <th>63629</th>\n",
       "      <td>8</td>\n",
       "      <td>46384</td>\n",
       "      <td>WiS</td>\n",
       "      <td>1.0</td>\n",
       "      <td>2.0</td>\n",
       "      <td>0.0</td>\n",
       "      <td>0.0</td>\n",
       "      <td>3.0</td>\n",
       "      <td>-1</td>\n",
       "      <td>-1</td>\n",
       "      <td>1</td>\n",
       "      <td>0.333333</td>\n",
       "      <td>2.0</td>\n",
       "      <td>0.666667</td>\n",
       "    </tr>\n",
       "    <tr>\n",
       "      <th>63630</th>\n",
       "      <td>8</td>\n",
       "      <td>46384</td>\n",
       "      <td>niez.</td>\n",
       "      <td>1.0</td>\n",
       "      <td>1.0</td>\n",
       "      <td>2.0</td>\n",
       "      <td>0.0</td>\n",
       "      <td>4.0</td>\n",
       "      <td>-1</td>\n",
       "      <td>-1</td>\n",
       "      <td>1</td>\n",
       "      <td>0.250000</td>\n",
       "      <td>2.0</td>\n",
       "      <td>0.500000</td>\n",
       "    </tr>\n",
       "  </tbody>\n",
       "</table>\n",
       "</div>"
      ],
      "text/plain": [
       "vote   cadence  voteId   club  Nieobecny  Przeciw  Wstrzymał się   Za  all  \\\n",
       "63628        8   46384    UED        4.0      0.0            0.0  0.0  4.0   \n",
       "63629        8   46384    WiS        1.0      2.0            0.0  0.0  3.0   \n",
       "63630        8   46384  niez.        1.0      1.0            2.0  0.0  4.0   \n",
       "\n",
       "vote   direction  direction_gov  gov_compliance  missing_pct  max_vote  \\\n",
       "63628         -1             -1               1     1.000000       4.0   \n",
       "63629         -1             -1               1     0.333333       2.0   \n",
       "63630         -1             -1               1     0.250000       2.0   \n",
       "\n",
       "vote   discipline  \n",
       "63628    1.000000  \n",
       "63629    0.666667  \n",
       "63630    0.500000  "
      ]
     },
     "execution_count": 49,
     "metadata": {},
     "output_type": "execute_result"
    }
   ],
   "source": [
    "df_grp.tail(3)"
   ]
  },
  {
   "cell_type": "code",
   "execution_count": 50,
   "metadata": {
    "collapsed": true
   },
   "outputs": [],
   "source": [
    "#### Get summarized data by cadence and club - size, missing, gov compliance, discipline"
   ]
  },
  {
   "cell_type": "code",
   "execution_count": 51,
   "metadata": {
    "collapsed": false
   },
   "outputs": [],
   "source": [
    "#group data - averages by cadence and club \n",
    "df = df_grp.groupby(['cadence','club']).mean()\n",
    "df.reset_index(inplace=True)"
   ]
  },
  {
   "cell_type": "code",
   "execution_count": 52,
   "metadata": {
    "collapsed": false
   },
   "outputs": [],
   "source": [
    "#split by cadence - will be shown separeted in subplots\n",
    "df7 = df.loc[df['cadence']==7]\n",
    "df8 = df.loc[df['cadence']==8]"
   ]
  },
  {
   "cell_type": "code",
   "execution_count": 53,
   "metadata": {
    "collapsed": false
   },
   "outputs": [
    {
     "data": {
      "text/html": [
       "<div>\n",
       "<table border=\"1\" class=\"dataframe\">\n",
       "  <thead>\n",
       "    <tr style=\"text-align: right;\">\n",
       "      <th>vote</th>\n",
       "      <th>cadence</th>\n",
       "      <th>club</th>\n",
       "      <th>voteId</th>\n",
       "      <th>Nieobecny</th>\n",
       "      <th>Przeciw</th>\n",
       "      <th>Wstrzymał się</th>\n",
       "      <th>Za</th>\n",
       "      <th>all</th>\n",
       "      <th>direction</th>\n",
       "      <th>direction_gov</th>\n",
       "      <th>gov_compliance</th>\n",
       "      <th>missing_pct</th>\n",
       "      <th>max_vote</th>\n",
       "      <th>discipline</th>\n",
       "    </tr>\n",
       "  </thead>\n",
       "  <tbody>\n",
       "    <tr>\n",
       "      <th>0</th>\n",
       "      <td>7</td>\n",
       "      <td>BC</td>\n",
       "      <td>43420.118037</td>\n",
       "      <td>0.755968</td>\n",
       "      <td>1.697613</td>\n",
       "      <td>0.045093</td>\n",
       "      <td>1.501326</td>\n",
       "      <td>4.000000</td>\n",
       "      <td>-0.058355</td>\n",
       "      <td>-0.122016</td>\n",
       "      <td>0.787798</td>\n",
       "      <td>0.188992</td>\n",
       "      <td>3.209549</td>\n",
       "      <td>0.802387</td>\n",
       "    </tr>\n",
       "    <tr>\n",
       "      <th>1</th>\n",
       "      <td>7</td>\n",
       "      <td>BiG</td>\n",
       "      <td>41819.000000</td>\n",
       "      <td>1.124519</td>\n",
       "      <td>3.938383</td>\n",
       "      <td>0.125802</td>\n",
       "      <td>3.161746</td>\n",
       "      <td>8.350449</td>\n",
       "      <td>-0.227214</td>\n",
       "      <td>-0.319641</td>\n",
       "      <td>0.548139</td>\n",
       "      <td>0.179840</td>\n",
       "      <td>6.688062</td>\n",
       "      <td>0.786998</td>\n",
       "    </tr>\n",
       "    <tr>\n",
       "      <th>2</th>\n",
       "      <td>7</td>\n",
       "      <td>ID</td>\n",
       "      <td>39848.503236</td>\n",
       "      <td>0.655340</td>\n",
       "      <td>1.658576</td>\n",
       "      <td>0.220065</td>\n",
       "      <td>1.466019</td>\n",
       "      <td>4.000000</td>\n",
       "      <td>-0.110032</td>\n",
       "      <td>-0.255663</td>\n",
       "      <td>0.627832</td>\n",
       "      <td>0.163835</td>\n",
       "      <td>3.268608</td>\n",
       "      <td>0.817152</td>\n",
       "    </tr>\n",
       "    <tr>\n",
       "      <th>3</th>\n",
       "      <td>7</td>\n",
       "      <td>KPSP</td>\n",
       "      <td>41785.500000</td>\n",
       "      <td>1.115979</td>\n",
       "      <td>4.861684</td>\n",
       "      <td>2.318729</td>\n",
       "      <td>6.706186</td>\n",
       "      <td>15.002577</td>\n",
       "      <td>-0.032646</td>\n",
       "      <td>-0.324742</td>\n",
       "      <td>0.037801</td>\n",
       "      <td>0.074356</td>\n",
       "      <td>13.151203</td>\n",
       "      <td>0.876622</td>\n",
       "    </tr>\n",
       "    <tr>\n",
       "      <th>4</th>\n",
       "      <td>7</td>\n",
       "      <td>PO</td>\n",
       "      <td>40646.753298</td>\n",
       "      <td>6.437768</td>\n",
       "      <td>129.927992</td>\n",
       "      <td>0.337625</td>\n",
       "      <td>66.509617</td>\n",
       "      <td>203.213003</td>\n",
       "      <td>-0.321253</td>\n",
       "      <td>-0.322206</td>\n",
       "      <td>0.999046</td>\n",
       "      <td>0.031729</td>\n",
       "      <td>195.800032</td>\n",
       "      <td>0.963474</td>\n",
       "    </tr>\n",
       "    <tr>\n",
       "      <th>5</th>\n",
       "      <td>7</td>\n",
       "      <td>PSL</td>\n",
       "      <td>40646.753298</td>\n",
       "      <td>2.972024</td>\n",
       "      <td>18.946272</td>\n",
       "      <td>0.142585</td>\n",
       "      <td>10.256080</td>\n",
       "      <td>32.316961</td>\n",
       "      <td>-0.304085</td>\n",
       "      <td>-0.322206</td>\n",
       "      <td>0.953902</td>\n",
       "      <td>0.089510</td>\n",
       "      <td>28.725640</td>\n",
       "      <td>0.891663</td>\n",
       "    </tr>\n",
       "    <tr>\n",
       "      <th>6</th>\n",
       "      <td>7</td>\n",
       "      <td>PiS</td>\n",
       "      <td>40646.753298</td>\n",
       "      <td>9.572723</td>\n",
       "      <td>41.886346</td>\n",
       "      <td>17.714036</td>\n",
       "      <td>66.074233</td>\n",
       "      <td>135.247337</td>\n",
       "      <td>0.036083</td>\n",
       "      <td>-0.322206</td>\n",
       "      <td>-0.022095</td>\n",
       "      <td>0.070750</td>\n",
       "      <td>125.233349</td>\n",
       "      <td>0.925886</td>\n",
       "    </tr>\n",
       "    <tr>\n",
       "      <th>7</th>\n",
       "      <td>7</td>\n",
       "      <td>RP</td>\n",
       "      <td>40333.210664</td>\n",
       "      <td>2.353894</td>\n",
       "      <td>12.984318</td>\n",
       "      <td>1.228176</td>\n",
       "      <td>13.307893</td>\n",
       "      <td>29.874281</td>\n",
       "      <td>-0.097229</td>\n",
       "      <td>-0.305802</td>\n",
       "      <td>0.533194</td>\n",
       "      <td>0.107929</td>\n",
       "      <td>26.136174</td>\n",
       "      <td>0.846089</td>\n",
       "    </tr>\n",
       "    <tr>\n",
       "      <th>8</th>\n",
       "      <td>7</td>\n",
       "      <td>SLD</td>\n",
       "      <td>40646.753298</td>\n",
       "      <td>2.733429</td>\n",
       "      <td>10.367350</td>\n",
       "      <td>1.227945</td>\n",
       "      <td>14.219361</td>\n",
       "      <td>28.548085</td>\n",
       "      <td>0.120013</td>\n",
       "      <td>-0.322206</td>\n",
       "      <td>0.300906</td>\n",
       "      <td>0.094440</td>\n",
       "      <td>25.205214</td>\n",
       "      <td>0.884146</td>\n",
       "    </tr>\n",
       "    <tr>\n",
       "      <th>9</th>\n",
       "      <td>7</td>\n",
       "      <td>SP</td>\n",
       "      <td>39321.245667</td>\n",
       "      <td>1.545530</td>\n",
       "      <td>4.594498</td>\n",
       "      <td>1.327098</td>\n",
       "      <td>10.011279</td>\n",
       "      <td>17.478404</td>\n",
       "      <td>0.253920</td>\n",
       "      <td>-0.350206</td>\n",
       "      <td>-0.125722</td>\n",
       "      <td>0.088611</td>\n",
       "      <td>15.107290</td>\n",
       "      <td>0.862996</td>\n",
       "    </tr>\n",
       "    <tr>\n",
       "      <th>10</th>\n",
       "      <td>7</td>\n",
       "      <td>TR</td>\n",
       "      <td>41125.902449</td>\n",
       "      <td>2.824082</td>\n",
       "      <td>11.905306</td>\n",
       "      <td>1.495510</td>\n",
       "      <td>11.404898</td>\n",
       "      <td>27.629796</td>\n",
       "      <td>-0.111837</td>\n",
       "      <td>-0.351020</td>\n",
       "      <td>0.496327</td>\n",
       "      <td>0.108308</td>\n",
       "      <td>23.916735</td>\n",
       "      <td>0.856083</td>\n",
       "    </tr>\n",
       "    <tr>\n",
       "      <th>11</th>\n",
       "      <td>7</td>\n",
       "      <td>ZP</td>\n",
       "      <td>43082.859145</td>\n",
       "      <td>1.304835</td>\n",
       "      <td>5.920112</td>\n",
       "      <td>2.433076</td>\n",
       "      <td>5.453399</td>\n",
       "      <td>15.111423</td>\n",
       "      <td>-0.201121</td>\n",
       "      <td>-0.244569</td>\n",
       "      <td>0.233357</td>\n",
       "      <td>0.086390</td>\n",
       "      <td>12.611072</td>\n",
       "      <td>0.834437</td>\n",
       "    </tr>\n",
       "    <tr>\n",
       "      <th>12</th>\n",
       "      <td>7</td>\n",
       "      <td>niez.</td>\n",
       "      <td>40646.753298</td>\n",
       "      <td>1.960420</td>\n",
       "      <td>5.391671</td>\n",
       "      <td>1.375934</td>\n",
       "      <td>4.271022</td>\n",
       "      <td>12.999046</td>\n",
       "      <td>-0.186457</td>\n",
       "      <td>-0.322206</td>\n",
       "      <td>0.599110</td>\n",
       "      <td>0.134330</td>\n",
       "      <td>8.254808</td>\n",
       "      <td>0.654927</td>\n",
       "    </tr>\n",
       "  </tbody>\n",
       "</table>\n",
       "</div>"
      ],
      "text/plain": [
       "vote  cadence   club        voteId  Nieobecny     Przeciw  Wstrzymał się  \\\n",
       "0           7     BC  43420.118037   0.755968    1.697613       0.045093   \n",
       "1           7    BiG  41819.000000   1.124519    3.938383       0.125802   \n",
       "2           7     ID  39848.503236   0.655340    1.658576       0.220065   \n",
       "3           7   KPSP  41785.500000   1.115979    4.861684       2.318729   \n",
       "4           7     PO  40646.753298   6.437768  129.927992       0.337625   \n",
       "5           7    PSL  40646.753298   2.972024   18.946272       0.142585   \n",
       "6           7    PiS  40646.753298   9.572723   41.886346      17.714036   \n",
       "7           7     RP  40333.210664   2.353894   12.984318       1.228176   \n",
       "8           7    SLD  40646.753298   2.733429   10.367350       1.227945   \n",
       "9           7     SP  39321.245667   1.545530    4.594498       1.327098   \n",
       "10          7     TR  41125.902449   2.824082   11.905306       1.495510   \n",
       "11          7     ZP  43082.859145   1.304835    5.920112       2.433076   \n",
       "12          7  niez.  40646.753298   1.960420    5.391671       1.375934   \n",
       "\n",
       "vote         Za         all  direction  direction_gov  gov_compliance  \\\n",
       "0      1.501326    4.000000  -0.058355      -0.122016        0.787798   \n",
       "1      3.161746    8.350449  -0.227214      -0.319641        0.548139   \n",
       "2      1.466019    4.000000  -0.110032      -0.255663        0.627832   \n",
       "3      6.706186   15.002577  -0.032646      -0.324742        0.037801   \n",
       "4     66.509617  203.213003  -0.321253      -0.322206        0.999046   \n",
       "5     10.256080   32.316961  -0.304085      -0.322206        0.953902   \n",
       "6     66.074233  135.247337   0.036083      -0.322206       -0.022095   \n",
       "7     13.307893   29.874281  -0.097229      -0.305802        0.533194   \n",
       "8     14.219361   28.548085   0.120013      -0.322206        0.300906   \n",
       "9     10.011279   17.478404   0.253920      -0.350206       -0.125722   \n",
       "10    11.404898   27.629796  -0.111837      -0.351020        0.496327   \n",
       "11     5.453399   15.111423  -0.201121      -0.244569        0.233357   \n",
       "12     4.271022   12.999046  -0.186457      -0.322206        0.599110   \n",
       "\n",
       "vote  missing_pct    max_vote  discipline  \n",
       "0        0.188992    3.209549    0.802387  \n",
       "1        0.179840    6.688062    0.786998  \n",
       "2        0.163835    3.268608    0.817152  \n",
       "3        0.074356   13.151203    0.876622  \n",
       "4        0.031729  195.800032    0.963474  \n",
       "5        0.089510   28.725640    0.891663  \n",
       "6        0.070750  125.233349    0.925886  \n",
       "7        0.107929   26.136174    0.846089  \n",
       "8        0.094440   25.205214    0.884146  \n",
       "9        0.088611   15.107290    0.862996  \n",
       "10       0.108308   23.916735    0.856083  \n",
       "11       0.086390   12.611072    0.834437  \n",
       "12       0.134330    8.254808    0.654927  "
      ]
     },
     "execution_count": 53,
     "metadata": {},
     "output_type": "execute_result"
    }
   ],
   "source": [
    "df7"
   ]
  },
  {
   "cell_type": "code",
   "execution_count": 54,
   "metadata": {
    "collapsed": false
   },
   "outputs": [
    {
     "data": {
      "text/html": [
       "<div>\n",
       "<table border=\"1\" class=\"dataframe\">\n",
       "  <thead>\n",
       "    <tr style=\"text-align: right;\">\n",
       "      <th>vote</th>\n",
       "      <th>cadence</th>\n",
       "      <th>club</th>\n",
       "      <th>voteId</th>\n",
       "      <th>Nieobecny</th>\n",
       "      <th>Przeciw</th>\n",
       "      <th>Wstrzymał się</th>\n",
       "      <th>Za</th>\n",
       "      <th>all</th>\n",
       "      <th>direction</th>\n",
       "      <th>direction_gov</th>\n",
       "      <th>gov_compliance</th>\n",
       "      <th>missing_pct</th>\n",
       "      <th>max_vote</th>\n",
       "      <th>discipline</th>\n",
       "    </tr>\n",
       "  </thead>\n",
       "  <tbody>\n",
       "    <tr>\n",
       "      <th>13</th>\n",
       "      <td>8</td>\n",
       "      <td>ED</td>\n",
       "      <td>45956.399232</td>\n",
       "      <td>1.362764</td>\n",
       "      <td>0.952015</td>\n",
       "      <td>0.055662</td>\n",
       "      <td>1.629559</td>\n",
       "      <td>4.000000</td>\n",
       "      <td>0.094050</td>\n",
       "      <td>-0.282150</td>\n",
       "      <td>-0.105566</td>\n",
       "      <td>0.340691</td>\n",
       "      <td>2.773512</td>\n",
       "      <td>0.693378</td>\n",
       "    </tr>\n",
       "    <tr>\n",
       "      <th>14</th>\n",
       "      <td>8</td>\n",
       "      <td>Kukiz15</td>\n",
       "      <td>45092.142303</td>\n",
       "      <td>3.599845</td>\n",
       "      <td>13.157425</td>\n",
       "      <td>5.401318</td>\n",
       "      <td>15.651028</td>\n",
       "      <td>37.809616</td>\n",
       "      <td>-0.073284</td>\n",
       "      <td>-0.361768</td>\n",
       "      <td>0.246219</td>\n",
       "      <td>0.095249</td>\n",
       "      <td>31.212873</td>\n",
       "      <td>0.826636</td>\n",
       "    </tr>\n",
       "    <tr>\n",
       "      <th>15</th>\n",
       "      <td>8</td>\n",
       "      <td>N</td>\n",
       "      <td>45092.142303</td>\n",
       "      <td>2.108957</td>\n",
       "      <td>8.787127</td>\n",
       "      <td>2.725475</td>\n",
       "      <td>15.877472</td>\n",
       "      <td>29.499031</td>\n",
       "      <td>0.135324</td>\n",
       "      <td>-0.361768</td>\n",
       "      <td>-0.137650</td>\n",
       "      <td>0.071409</td>\n",
       "      <td>26.283831</td>\n",
       "      <td>0.890780</td>\n",
       "    </tr>\n",
       "    <tr>\n",
       "      <th>16</th>\n",
       "      <td>8</td>\n",
       "      <td>PO</td>\n",
       "      <td>45092.142303</td>\n",
       "      <td>10.664986</td>\n",
       "      <td>41.098876</td>\n",
       "      <td>3.493602</td>\n",
       "      <td>80.916247</td>\n",
       "      <td>136.173711</td>\n",
       "      <td>0.281117</td>\n",
       "      <td>-0.361768</td>\n",
       "      <td>-0.235363</td>\n",
       "      <td>0.078500</td>\n",
       "      <td>124.399767</td>\n",
       "      <td>0.913324</td>\n",
       "    </tr>\n",
       "    <tr>\n",
       "      <th>17</th>\n",
       "      <td>8</td>\n",
       "      <td>PSL</td>\n",
       "      <td>45092.142303</td>\n",
       "      <td>1.697169</td>\n",
       "      <td>4.702598</td>\n",
       "      <td>0.561458</td>\n",
       "      <td>9.038775</td>\n",
       "      <td>16.000000</td>\n",
       "      <td>0.267933</td>\n",
       "      <td>-0.361768</td>\n",
       "      <td>-0.212873</td>\n",
       "      <td>0.106073</td>\n",
       "      <td>13.794494</td>\n",
       "      <td>0.862156</td>\n",
       "    </tr>\n",
       "    <tr>\n",
       "      <th>18</th>\n",
       "      <td>8</td>\n",
       "      <td>PiS</td>\n",
       "      <td>45092.142303</td>\n",
       "      <td>8.015898</td>\n",
       "      <td>153.462970</td>\n",
       "      <td>0.402869</td>\n",
       "      <td>72.016673</td>\n",
       "      <td>233.898410</td>\n",
       "      <td>-0.361768</td>\n",
       "      <td>-0.361768</td>\n",
       "      <td>1.000000</td>\n",
       "      <td>0.034267</td>\n",
       "      <td>225.073284</td>\n",
       "      <td>0.962274</td>\n",
       "    </tr>\n",
       "    <tr>\n",
       "      <th>19</th>\n",
       "      <td>8</td>\n",
       "      <td>UED</td>\n",
       "      <td>46301.000000</td>\n",
       "      <td>1.790419</td>\n",
       "      <td>0.658683</td>\n",
       "      <td>0.131737</td>\n",
       "      <td>1.419162</td>\n",
       "      <td>4.000000</td>\n",
       "      <td>0.281437</td>\n",
       "      <td>-0.293413</td>\n",
       "      <td>-0.317365</td>\n",
       "      <td>0.447605</td>\n",
       "      <td>2.335329</td>\n",
       "      <td>0.583832</td>\n",
       "    </tr>\n",
       "    <tr>\n",
       "      <th>20</th>\n",
       "      <td>8</td>\n",
       "      <td>WiS</td>\n",
       "      <td>45702.164585</td>\n",
       "      <td>0.232182</td>\n",
       "      <td>1.735489</td>\n",
       "      <td>0.087436</td>\n",
       "      <td>0.944893</td>\n",
       "      <td>3.000000</td>\n",
       "      <td>-0.322557</td>\n",
       "      <td>-0.299045</td>\n",
       "      <td>0.929464</td>\n",
       "      <td>0.077394</td>\n",
       "      <td>2.696547</td>\n",
       "      <td>0.898849</td>\n",
       "    </tr>\n",
       "    <tr>\n",
       "      <th>21</th>\n",
       "      <td>8</td>\n",
       "      <td>niez.</td>\n",
       "      <td>45092.142303</td>\n",
       "      <td>0.243893</td>\n",
       "      <td>1.783249</td>\n",
       "      <td>0.368360</td>\n",
       "      <td>1.462582</td>\n",
       "      <td>3.858085</td>\n",
       "      <td>-0.228383</td>\n",
       "      <td>-0.361768</td>\n",
       "      <td>0.722373</td>\n",
       "      <td>0.054165</td>\n",
       "      <td>2.708414</td>\n",
       "      <td>0.705692</td>\n",
       "    </tr>\n",
       "  </tbody>\n",
       "</table>\n",
       "</div>"
      ],
      "text/plain": [
       "vote  cadence     club        voteId  Nieobecny     Przeciw  Wstrzymał się  \\\n",
       "13          8       ED  45956.399232   1.362764    0.952015       0.055662   \n",
       "14          8  Kukiz15  45092.142303   3.599845   13.157425       5.401318   \n",
       "15          8        N  45092.142303   2.108957    8.787127       2.725475   \n",
       "16          8       PO  45092.142303  10.664986   41.098876       3.493602   \n",
       "17          8      PSL  45092.142303   1.697169    4.702598       0.561458   \n",
       "18          8      PiS  45092.142303   8.015898  153.462970       0.402869   \n",
       "19          8      UED  46301.000000   1.790419    0.658683       0.131737   \n",
       "20          8      WiS  45702.164585   0.232182    1.735489       0.087436   \n",
       "21          8    niez.  45092.142303   0.243893    1.783249       0.368360   \n",
       "\n",
       "vote         Za         all  direction  direction_gov  gov_compliance  \\\n",
       "13     1.629559    4.000000   0.094050      -0.282150       -0.105566   \n",
       "14    15.651028   37.809616  -0.073284      -0.361768        0.246219   \n",
       "15    15.877472   29.499031   0.135324      -0.361768       -0.137650   \n",
       "16    80.916247  136.173711   0.281117      -0.361768       -0.235363   \n",
       "17     9.038775   16.000000   0.267933      -0.361768       -0.212873   \n",
       "18    72.016673  233.898410  -0.361768      -0.361768        1.000000   \n",
       "19     1.419162    4.000000   0.281437      -0.293413       -0.317365   \n",
       "20     0.944893    3.000000  -0.322557      -0.299045        0.929464   \n",
       "21     1.462582    3.858085  -0.228383      -0.361768        0.722373   \n",
       "\n",
       "vote  missing_pct    max_vote  discipline  \n",
       "13       0.340691    2.773512    0.693378  \n",
       "14       0.095249   31.212873    0.826636  \n",
       "15       0.071409   26.283831    0.890780  \n",
       "16       0.078500  124.399767    0.913324  \n",
       "17       0.106073   13.794494    0.862156  \n",
       "18       0.034267  225.073284    0.962274  \n",
       "19       0.447605    2.335329    0.583832  \n",
       "20       0.077394    2.696547    0.898849  \n",
       "21       0.054165    2.708414    0.705692  "
      ]
     },
     "execution_count": 54,
     "metadata": {},
     "output_type": "execute_result"
    }
   ],
   "source": [
    "df8"
   ]
  },
  {
   "cell_type": "code",
   "execution_count": 55,
   "metadata": {
    "collapsed": true
   },
   "outputs": [],
   "source": [
    "#common colour schema for cadence comparison plots\n",
    "no_accent = 'lightgrey'\n",
    "\n",
    "def colour_schema(subplot, df):\n",
    "    childrenLS=ax[subplot].get_children()\n",
    "    barlist=list(filter(lambda x: isinstance(x, matplotlib.patches.Rectangle), childrenLS))\n",
    "    barlist[np.where(df['club']=='PO')[0][0]].set_color('orange')\n",
    "    barlist[np.where(df['club']=='PiS')[0][0]].set_color('blue')\n",
    "    barlist[np.where(df['club']=='PSL')[0][0]].set_color('grey')\n",
    "    \n",
    "    if subplot == 0:\n",
    "        barlist[np.where(df['club']=='RP')[0][0]].set_color('grey')\n",
    "        barlist[np.where(df['club']=='SLD')[0][0]].set_color('grey')\n",
    "        barlist[np.where(df['club']=='TR')[0][0]].set_color('grey')\n",
    "    \n",
    "    if subplot == 1:\n",
    "        barlist[np.where(df['club']=='Kukiz15')[0][0]].set_color('grey')\n",
    "        barlist[np.where(df['club']=='N')[0][0]].set_color('grey')\n",
    "    \n",
    "\n"
   ]
  },
  {
   "cell_type": "markdown",
   "metadata": {},
   "source": [
    "#### Club counts"
   ]
  },
  {
   "cell_type": "code",
   "execution_count": 56,
   "metadata": {
    "collapsed": false
   },
   "outputs": [
    {
     "data": {
      "image/png": "[encoded data removed]",
      "text/plain": [
       "<matplotlib.figure.Figure at 0x118a53f60>"
      ]
     },
     "metadata": {},
     "output_type": "display_data"
    }
   ],
   "source": [
    "plt.rcParams['figure.figsize'] = (12,3)\n",
    "fig, ax = plt.subplots(1, 2, sharey=True)\n",
    "\n",
    "#subplot1\n",
    "#cadence 7 club counts\n",
    "ax[0].bar(range(0,len(df7['club'])),df7['all'], align = 'center', width=0.5, color=no_accent)\n",
    "plt.sca(ax[0])\n",
    "plt.xticks(range(0,len(df7['club'])), df7['club'])\n",
    "plt.title('Stan osobowy VII Sejmu RP')\n",
    "plt.ylabel('Średnia liczba Parlamentarzystów')\n",
    "\n",
    "#get all subplot objects, set colors for major parties\n",
    "colour_schema(0, df7)\n",
    "\n",
    "#subplot2\n",
    "#cadence 8 club counts\n",
    "ax[1].bar(range(0,len(df8['club'])),df8['all'], align = 'center', width=0.35, color=no_accent)\n",
    "plt.sca(ax[1])\n",
    "plt.xticks(range(0,len(df8['club'])), df8['club'])\n",
    "plt.title('Stan osobowy VIII Sejmu RP')\n",
    "\n",
    "#get all subplot objects, set colors for major parties\n",
    "colour_schema(1, df8)\n"
   ]
  },
  {
   "cell_type": "markdown",
   "metadata": {},
   "source": [
    "Bardzo wiele partii przekroczyło próg wyborczy w poprzedniej kadencji, tylko trzem z nich udało się to powtórzyć w bierzącej."
   ]
  },
  {
   "cell_type": "markdown",
   "metadata": {},
   "source": [
    "#### Missing votes (including walk outs)\n",
    "Summarize average percent of missing votes per voting session \n",
    "\n"
   ]
  },
  {
   "cell_type": "code",
   "execution_count": 57,
   "metadata": {
    "collapsed": false
   },
   "outputs": [
    {
     "data": {
      "image/png": "[encoded data removed]",
      "text/plain": [
       "<matplotlib.figure.Figure at 0x116daeda0>"
      ]
     },
     "metadata": {},
     "output_type": "display_data"
    }
   ],
   "source": [
    "plt.rcParams['figure.figsize'] = (12,3)\n",
    "fig, ax = plt.subplots(1, 2, sharey=True)\n",
    "\n",
    "\n",
    "#subplot1\n",
    "#cadence 7 club counts\n",
    "ax[0].bar(range(0,len(df7['club'])),df7['missing_pct'], align = 'center', width=0.5, color=no_accent, )\n",
    "plt.sca(ax[0])\n",
    "plt.xticks(range(0,len(df7['club'])), df7['club'])\n",
    "plt.title(u'Nieobecności w VII Sejmie RP')\n",
    "plt.ylabel(u'Średni % nieobecności')\n",
    "\n",
    "\n",
    "#get all subplot objects, set colors for major parties\n",
    "colour_schema(0,df7)\n",
    "\n",
    "#subplot2\n",
    "#cadence 8 club counts\n",
    "ax[1].bar(range(0,len(df8['club'])),df8['missing_pct'], align = 'center', width=0.35, color=no_accent)\n",
    "plt.sca(ax[1])\n",
    "plt.xticks(range(0,len(df8['club'])), df8['club'])\n",
    "plt.title(u'Nieobecności w VIII Sejmie RP')\n",
    "\n",
    "plt.ylim([0,0.15])\n",
    "\n",
    "\n",
    "#get all subplot objects, set colors for major parties\n",
    "colour_schema(1,df8)\n"
   ]
  },
  {
   "cell_type": "markdown",
   "metadata": {},
   "source": [
    "Jak widać partia rządząca w obydwu kadencjach potrafi przekonać swoich członków do głosowania, pozostałe już nieco mniej :)"
   ]
  },
  {
   "cell_type": "markdown",
   "metadata": {},
   "source": [
    "#### Club discipline\n",
    "Summarize average % of majority votes per voting session with respect to total number of club members"
   ]
  },
  {
   "cell_type": "code",
   "execution_count": 60,
   "metadata": {
    "collapsed": false
   },
   "outputs": [
    {
     "data": {
      "image/png": "[encoded data removed]",
      "text/plain": [
       "<matplotlib.figure.Figure at 0x116c6e710>"
      ]
     },
     "metadata": {},
     "output_type": "display_data"
    }
   ],
   "source": [
    "plt.rcParams['figure.figsize'] = (12,3)\n",
    "fig, ax = plt.subplots(1, 2, sharey=True)\n",
    "\n",
    "\n",
    "#subplot1\n",
    "#cadence 7 club counts\n",
    "ax[0].bar(range(0,len(df7['club'])),df7['discipline'], align = 'center', width=0.5, color=no_accent)\n",
    "plt.sca(ax[0])\n",
    "plt.xticks(range(0,len(df7['club'])), df7['club'])\n",
    "plt.title(u'Dyscyplina klubowa w VII Sejmie RP')\n",
    "plt.ylabel(u'Średni % nieobecności')\n",
    "\n",
    "#get all subplot objects, set colors for major parties\n",
    "colour_schema(0,df7)\n",
    "\n",
    "#subplot2\n",
    "#cadence 8 club counts\n",
    "ax[1].bar(range(0,len(df8['club'])),df8['discipline'], align = 'center', width=0.35, color=no_accent)\n",
    "plt.sca(ax[1])\n",
    "plt.xticks(range(0,len(df8['club'])), df8['club'])\n",
    "plt.title(u'Dyscyplina klubowa w VIII Sejmie RP')\n",
    "\n",
    "plt.ylim([0.8,1])\n",
    "\n",
    "#get all subplot objects, set colors for major parties\n",
    "colour_schema(1,df8)\n"
   ]
  },
  {
   "cell_type": "markdown",
   "metadata": {},
   "source": [
    "Podejście do dyscypliny wydaje się podobne - partia rządząca narzuca dyscyplinę powyżej 95%, główna partia opozycyjna niewiele mniej, pozostali są nieco bardziej rozluźnieni, ale niewiele bardziej, nikt nie spada poniżej 80% zdyscyplinowania."
   ]
  },
  {
   "cell_type": "markdown",
   "metadata": {},
   "source": [
    "#### Clubs voting pro/against government voting direction\n",
    "For each parliment club summarize % of voting sessions pro/against the ruling party"
   ]
  },
  {
   "cell_type": "code",
   "execution_count": 59,
   "metadata": {
    "collapsed": false
   },
   "outputs": [
    {
     "data": {
      "image/png": "[encoded data removed]",
      "text/plain": [
       "<matplotlib.figure.Figure at 0x115d48390>"
      ]
     },
     "metadata": {},
     "output_type": "display_data"
    }
   ],
   "source": [
    "plt.rcParams['figure.figsize'] = (12,3)\n",
    "fig, ax = plt.subplots(1, 2, sharey=True)\n",
    "\n",
    "\n",
    "#subplot1\n",
    "#cadence 7 club counts\n",
    "ax[0].bar(range(0,len(df7['club'])),df7['gov_compliance'], align = 'center', width=0.5, color=no_accent)\n",
    "plt.sca(ax[0])\n",
    "plt.xticks(range(0,len(df7['club'])), df7['club'])\n",
    "plt.title(u'Zgodność głosowań z linią Rządu w VII Sejmie RP')\n",
    "plt.ylabel(u'Zgodność głosowań (skala +1 / -1)')\n",
    "\n",
    "#get all subplot objects, set colors for major parties\n",
    "colour_schema(0,df7)\n",
    "\n",
    "#subplot2\n",
    "#cadence 8 club counts\n",
    "ax[1].bar(range(0,len(df8['club'])),df8['gov_compliance'], align = 'center', width=0.35, color=no_accent)\n",
    "plt.sca(ax[1])\n",
    "plt.xticks(range(0,len(df8['club'])), df8['club'])\n",
    "plt.title(u'Zgodność głosowań z linią Rządu w VIII Sejmie RP')\n",
    "\n",
    "plt.ylim([-0.5,1])\n",
    "\n",
    "#get all subplot objects, set colors for major parties\n",
    "colour_schema(1,df8)\n"
   ]
  },
  {
   "cell_type": "markdown",
   "metadata": {},
   "source": [
    "W poprzednim sejmie było chyba jednak trochę milej :), z dużych klubów tylko PiS nie zgadzał się z linią rządu częściej niż co drugi raz. W obecnym widać znacznie ostrzejszy podział na PiS i opozycję (PO, PSL, N), nawet Kukiz15 zgadza się z PiSem w mniej niż 40% głosowań"
   ]
  },
  {
   "cell_type": "markdown",
   "metadata": {},
   "source": [
    "#### Powyższe diagramy malują obraz dużych zmian osobowych pomiędzy dwiema ostatnimi kadencjami sejmu\n",
    "Zobaczmy czy dane indywidualne potwierdzają tą tezę"
   ]
  },
  {
   "cell_type": "code",
   "execution_count": 73,
   "metadata": {
    "collapsed": false
   },
   "outputs": [
    {
     "data": {
      "text/html": [
       "<div>\n",
       "<table border=\"1\" class=\"dataframe\">\n",
       "  <thead>\n",
       "    <tr style=\"text-align: right;\">\n",
       "      <th></th>\n",
       "      <th>cadence</th>\n",
       "      <th>voteId</th>\n",
       "      <th>club</th>\n",
       "      <th>name</th>\n",
       "      <th>vote</th>\n",
       "    </tr>\n",
       "  </thead>\n",
       "  <tbody>\n",
       "    <tr>\n",
       "      <th>1024400</th>\n",
       "      <td>7</td>\n",
       "      <td>37494</td>\n",
       "      <td>PO</td>\n",
       "      <td>Adamczak Małgorzata</td>\n",
       "      <td>Przeciw</td>\n",
       "    </tr>\n",
       "    <tr>\n",
       "      <th>1024504</th>\n",
       "      <td>7</td>\n",
       "      <td>37494</td>\n",
       "      <td>PO</td>\n",
       "      <td>Arkit Tadeusz</td>\n",
       "      <td>Przeciw</td>\n",
       "    </tr>\n",
       "    <tr>\n",
       "      <th>1024505</th>\n",
       "      <td>7</td>\n",
       "      <td>37494</td>\n",
       "      <td>PO</td>\n",
       "      <td>Arndt Paweł</td>\n",
       "      <td>Przeciw</td>\n",
       "    </tr>\n",
       "  </tbody>\n",
       "</table>\n",
       "</div>"
      ],
      "text/plain": [
       "         cadence  voteId club                 name     vote\n",
       "1024400        7   37494   PO  Adamczak Małgorzata  Przeciw\n",
       "1024504        7   37494   PO        Arkit Tadeusz  Przeciw\n",
       "1024505        7   37494   PO          Arndt Paweł  Przeciw"
      ]
     },
     "execution_count": 73,
     "metadata": {},
     "output_type": "execute_result"
    }
   ],
   "source": [
    "df_ind.head(3)"
   ]
  },
  {
   "cell_type": "code",
   "execution_count": 79,
   "metadata": {
    "collapsed": false
   },
   "outputs": [],
   "source": [
    "#how many people from cadence 8 were in parliment in cadence 7\n",
    "set7 = set(df_ind['name'][df_ind['cadence']==7])\n",
    "set8 = set(df_ind['name'][df_ind['cadence']==8])\n",
    "set_both = (set7 & set8)"
   ]
  },
  {
   "cell_type": "code",
   "execution_count": 84,
   "metadata": {
    "collapsed": false
   },
   "outputs": [
    {
     "data": {
      "text/plain": [
       "0.5074626865671642"
      ]
     },
     "execution_count": 84,
     "metadata": {},
     "output_type": "execute_result"
    }
   ],
   "source": [
    "len(set_both) / len(set8)"
   ]
  },
  {
   "cell_type": "markdown",
   "metadata": {},
   "source": [
    "Faktycznie wygląda na to, że tylko 50% parlamentarzystów z kadencji 7 załapało się na kadencję 8."
   ]
  },
  {
   "cell_type": "markdown",
   "metadata": {},
   "source": [
    "#### Na dzisiaj to koniec\n",
    "Wnioski\n",
    "* Strony rządowe stanowią dobre źródło ciekawych danych, do których zwykły obywatel nie ma dostępu (70.000 podstron!), na pewno jeszcze nie raz spróbuję odnaleźć na nich coś ciekawego \n",
    "* Python z użyciem odpowiednich modułów pozwala na bardzo łatwą analizę danych, nawet jeżeli wcześniej się tego nie robiło\n",
    "* Następnym razem poszukam czegoś ambitniejszego - może analizy SNA (sieć powiązań), albo analizy niesformatowanego tekstu\n",
    "\n",
    "\n",
    "Pozdrawiam!"
   ]
  },
  {
   "cell_type": "code",
   "execution_count": null,
   "metadata": {
    "collapsed": true
   },
   "outputs": [],
   "source": []
  }
 ],
 "metadata": {
  "anaconda-cloud": {},
  "kernelspec": {
   "display_name": "Python [conda root]",
   "language": "python",
   "name": "conda-root-py"
  },
  "language_info": {
   "codemirror_mode": {
    "name": "ipython",
    "version": 3
   },
   "file_extension": ".py",
   "mimetype": "text/x-python",
   "name": "python",
   "nbconvert_exporter": "python",
   "pygments_lexer": "ipython3",
   "version": "3.5.2"
  }
 },
 "nbformat": 4,
 "nbformat_minor": 1
}
