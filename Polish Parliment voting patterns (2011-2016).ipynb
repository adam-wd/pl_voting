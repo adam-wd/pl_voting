{
 "cells": [
  {
   "cell_type": "markdown",
   "metadata": {},
   "source": [
    "### Four million clicks\n",
    "#### Five years of polish parliment votes (2011-2016)"
   ]
  },
  {
   "cell_type": "markdown",
   "metadata": {},
   "source": [
    "I recently stumbled upon the polish parliment pages (http://www.sejm.gov.pl/) I had hoped to see some raw data regarding the work of the parliment and eventually I found named lists of voting results, however they were hidden within a fairly deep link structure.\n",
    "At first I tried to parse that with a simple scrapy spider, but the amount of data returned was a problem, instead I was able to limit the data intake by using Beautiful Soup and read_html. After a few tries and 10 hours of running scripts I had my data and still no one was knocking at my door to ask why am I rapid-fire browsing over 70k subpages on the parliment website. Success! "
   ]
  },
  {
   "cell_type": "markdown",
   "metadata": {},
   "source": [
    "#### Initial look at the data\n",
    "About 5% of the data returned by my script did not conform to the general voting result structure, I could have tried to debug that, but I felt about ready to stop playing with Beautiful Soup so this simply got dropped.\n",
    "The remainder is loaded below."
   ]
  },
  {
   "cell_type": "code",
   "execution_count": 1,
   "metadata": {
    "collapsed": true
   },
   "outputs": [],
   "source": [
    "import math\n",
    "import numpy as np\n",
    "import pandas as pd\n",
    "import matplotlib\n",
    "import matplotlib.pyplot as plt\n",
    "plt.style.use('fivethirtyeight')\n",
    "%matplotlib inline\n",
    "from IPython.display import display"
   ]
  },
  {
   "cell_type": "code",
   "execution_count": 2,
   "metadata": {
    "collapsed": false
   },
   "outputs": [
    {
     "data": {
      "text/plain": [
       "(4076533, 5)"
      ]
     },
     "execution_count": 2,
     "metadata": {},
     "output_type": "execute_result"
    }
   ],
   "source": [
    "#read data\n",
    "#previous parliment term\n",
    "data_7_1 = pd.read_csv('voting_cadence_7_1_dropna.csv')\n",
    "data_7_2 = pd.read_csv('voting_cadence_7_2_dropna.csv')\n",
    "data_7_3 = pd.read_csv('voting_cadence_7_3_dropna.csv')\n",
    "#current parliment term\n",
    "data_8 = pd.read_csv('voting_cadence_8_dropna.csv')\n",
    "\n",
    "#combine data\n",
    "df = data_7_1.append([data_7_2,data_7_3,data_8])\n",
    "#drop counters and old materialized index\n",
    "df = df.drop([df.columns[0],df.columns[1]],1)\n",
    "#rearrange columns\n",
    "df = df[['cadence','voteId','club','name','vote']]\n",
    "#sort\n",
    "df.sort_values(by=['cadence','voteId','club','name'], inplace=True)\n",
    "\n",
    "df.shape"
   ]
  },
  {
   "cell_type": "markdown",
   "metadata": {},
   "source": [
    "A quick description of the data:\n",
    "* cadence 7 is the previous term ended in 2015, cadence 8 is current parliment term\n",
    "* voteId is correlated with dates"
   ]
  },
  {
   "cell_type": "code",
   "execution_count": 3,
   "metadata": {
    "collapsed": false
   },
   "outputs": [
    {
     "data": {
      "text/html": [
       "<div>\n",
       "<table border=\"1\" class=\"dataframe\">\n",
       "  <thead>\n",
       "    <tr style=\"text-align: right;\">\n",
       "      <th></th>\n",
       "      <th>cadence</th>\n",
       "      <th>voteId</th>\n",
       "      <th>club</th>\n",
       "      <th>name</th>\n",
       "      <th>vote</th>\n",
       "    </tr>\n",
       "  </thead>\n",
       "  <tbody>\n",
       "    <tr>\n",
       "      <th>1024400</th>\n",
       "      <td>7</td>\n",
       "      <td>37494</td>\n",
       "      <td>PO</td>\n",
       "      <td>Adamczak Małgorzata</td>\n",
       "      <td>Przeciw</td>\n",
       "    </tr>\n",
       "    <tr>\n",
       "      <th>1024504</th>\n",
       "      <td>7</td>\n",
       "      <td>37494</td>\n",
       "      <td>PO</td>\n",
       "      <td>Arkit Tadeusz</td>\n",
       "      <td>Przeciw</td>\n",
       "    </tr>\n",
       "    <tr>\n",
       "      <th>1024505</th>\n",
       "      <td>7</td>\n",
       "      <td>37494</td>\n",
       "      <td>PO</td>\n",
       "      <td>Arndt Paweł</td>\n",
       "      <td>Przeciw</td>\n",
       "    </tr>\n",
       "  </tbody>\n",
       "</table>\n",
       "</div>"
      ],
      "text/plain": [
       "         cadence  voteId club                 name     vote\n",
       "1024400        7   37494   PO  Adamczak Małgorzata  Przeciw\n",
       "1024504        7   37494   PO        Arkit Tadeusz  Przeciw\n",
       "1024505        7   37494   PO          Arndt Paweł  Przeciw"
      ]
     },
     "execution_count": 3,
     "metadata": {},
     "output_type": "execute_result"
    }
   ],
   "source": [
    "df.head(3)"
   ]
  },
  {
   "cell_type": "markdown",
   "metadata": {},
   "source": [
    "Lets do some simple sanity checks:"
   ]
  },
  {
   "cell_type": "code",
   "execution_count": 4,
   "metadata": {
    "collapsed": false
   },
   "outputs": [
    {
     "data": {
      "text/plain": [
       "{'BC',\n",
       " 'BiG',\n",
       " 'ID',\n",
       " 'KPSP',\n",
       " 'PO',\n",
       " 'PSL',\n",
       " 'PiS',\n",
       " 'RP',\n",
       " 'SLD',\n",
       " 'SP',\n",
       " 'TR',\n",
       " 'ZP',\n",
       " 'niez.'}"
      ]
     },
     "metadata": {},
     "output_type": "display_data"
    },
    {
     "data": {
      "text/plain": [
       "{'ED', 'Kukiz15', 'N', 'PO', 'PSL', 'PiS', 'UED', 'WiS', 'niez.'}"
      ]
     },
     "metadata": {},
     "output_type": "display_data"
    }
   ],
   "source": [
    "#parlimentary clubs in cadences 7 and 8\n",
    "clubs_7= set(df[df['cadence']==7]['club'])\n",
    "clubs_8= set(df[df['cadence']==8]['club'])\n",
    "\n",
    "display(clubs_7)\n",
    "display(clubs_8)"
   ]
  },
  {
   "cell_type": "markdown",
   "metadata": {},
   "source": [
    "We can clearly see that the last election shook up the polish political stage, only 3 clubs reentered the praliment under the same name. I might check later how it looks on a per person basis."
   ]
  },
  {
   "cell_type": "code",
   "execution_count": 5,
   "metadata": {
    "collapsed": false
   },
   "outputs": [
    {
     "data": {
      "text/plain": [
       "{'Nieobecny', 'Przeciw', 'Wstrzymał się', 'Za'}"
      ]
     },
     "execution_count": 5,
     "metadata": {},
     "output_type": "execute_result"
    }
   ],
   "source": [
    "#votes\n",
    "vote_set = set(df['vote'])\n",
    "vote_set\n",
    "\n",
    "#Missing,      Against,   Abstain,         For"
   ]
  },
  {
   "cell_type": "markdown",
   "metadata": {},
   "source": [
    "#### Time for some voting statistics\n",
    "* Let us see how many of our elected representatives do actually bother to cast their votes\n",
    "    * calculated as % of missing votes (unless the club majority is missing)\n",
    "\n",
    "* How well does the club follow voting discipline\n",
    "    * calculated as % of votes against club direction (if the direction of a \"walk out\" - votes against are ok\n",
    "\n",
    "* Which clubs typically vote for / against the government (PO / PIS for cadences 7 and 8 respectively)\n",
    "    * votes against or abstained are treated as against\n",
    "    * missing votes are treated separately - to find \"walk outs\" in protest\n",
    "\n",
    "We will compare these characteristics across the cadences\n",
    "\n",
    "\n",
    "ROZPISAC"
   ]
  },
  {
   "cell_type": "code",
   "execution_count": 62,
   "metadata": {
    "collapsed": false
   },
   "outputs": [],
   "source": [
    "## restart from here\n",
    "\n",
    "#group vote counts, unstack results to separate columns, fill missing values with zeros\n",
    "df_grp = df.groupby(['cadence','voteId','club','vote']).count().unstack().fillna(0)\n"
   ]
  },
  {
   "cell_type": "code",
   "execution_count": 63,
   "metadata": {
    "collapsed": false
   },
   "outputs": [
    {
     "data": {
      "text/html": [
       "<div>\n",
       "<table border=\"1\" class=\"dataframe\">\n",
       "  <thead>\n",
       "    <tr>\n",
       "      <th></th>\n",
       "      <th></th>\n",
       "      <th></th>\n",
       "      <th colspan=\"4\" halign=\"left\">name</th>\n",
       "    </tr>\n",
       "    <tr>\n",
       "      <th></th>\n",
       "      <th></th>\n",
       "      <th>vote</th>\n",
       "      <th>Nieobecny</th>\n",
       "      <th>Przeciw</th>\n",
       "      <th>Wstrzymał się</th>\n",
       "      <th>Za</th>\n",
       "    </tr>\n",
       "    <tr>\n",
       "      <th>cadence</th>\n",
       "      <th>voteId</th>\n",
       "      <th>club</th>\n",
       "      <th></th>\n",
       "      <th></th>\n",
       "      <th></th>\n",
       "      <th></th>\n",
       "    </tr>\n",
       "  </thead>\n",
       "  <tbody>\n",
       "    <tr>\n",
       "      <th rowspan=\"5\" valign=\"top\">7</th>\n",
       "      <th rowspan=\"5\" valign=\"top\">37494</th>\n",
       "      <th>PO</th>\n",
       "      <td>4.0</td>\n",
       "      <td>203.0</td>\n",
       "      <td>0.0</td>\n",
       "      <td>0.0</td>\n",
       "    </tr>\n",
       "    <tr>\n",
       "      <th>PSL</th>\n",
       "      <td>3.0</td>\n",
       "      <td>25.0</td>\n",
       "      <td>0.0</td>\n",
       "      <td>0.0</td>\n",
       "    </tr>\n",
       "    <tr>\n",
       "      <th>PiS</th>\n",
       "      <td>5.0</td>\n",
       "      <td>0.0</td>\n",
       "      <td>0.0</td>\n",
       "      <td>133.0</td>\n",
       "    </tr>\n",
       "    <tr>\n",
       "      <th>RP</th>\n",
       "      <td>1.0</td>\n",
       "      <td>38.0</td>\n",
       "      <td>0.0</td>\n",
       "      <td>2.0</td>\n",
       "    </tr>\n",
       "    <tr>\n",
       "      <th>SLD</th>\n",
       "      <td>2.0</td>\n",
       "      <td>24.0</td>\n",
       "      <td>0.0</td>\n",
       "      <td>0.0</td>\n",
       "    </tr>\n",
       "  </tbody>\n",
       "</table>\n",
       "</div>"
      ],
      "text/plain": [
       "                         name                             \n",
       "vote                Nieobecny Przeciw Wstrzymał się     Za\n",
       "cadence voteId club                                       \n",
       "7       37494  PO         4.0   203.0           0.0    0.0\n",
       "               PSL        3.0    25.0           0.0    0.0\n",
       "               PiS        5.0     0.0           0.0  133.0\n",
       "               RP         1.0    38.0           0.0    2.0\n",
       "               SLD        2.0    24.0           0.0    0.0"
      ]
     },
     "execution_count": 63,
     "metadata": {},
     "output_type": "execute_result"
    }
   ],
   "source": [
    "df_grp.head()"
   ]
  },
  {
   "cell_type": "code",
   "execution_count": 64,
   "metadata": {
    "collapsed": false
   },
   "outputs": [],
   "source": [
    "#materialize the new index\n",
    "df_grp.reset_index(col_level=1,inplace=True)"
   ]
  },
  {
   "cell_type": "code",
   "execution_count": 65,
   "metadata": {
    "collapsed": false
   },
   "outputs": [
    {
     "data": {
      "text/html": [
       "<div>\n",
       "<table border=\"1\" class=\"dataframe\">\n",
       "  <thead>\n",
       "    <tr>\n",
       "      <th></th>\n",
       "      <th colspan=\"3\" halign=\"left\"></th>\n",
       "      <th colspan=\"4\" halign=\"left\">name</th>\n",
       "    </tr>\n",
       "    <tr>\n",
       "      <th>vote</th>\n",
       "      <th>cadence</th>\n",
       "      <th>voteId</th>\n",
       "      <th>club</th>\n",
       "      <th>Nieobecny</th>\n",
       "      <th>Przeciw</th>\n",
       "      <th>Wstrzymał się</th>\n",
       "      <th>Za</th>\n",
       "    </tr>\n",
       "  </thead>\n",
       "  <tbody>\n",
       "    <tr>\n",
       "      <th>0</th>\n",
       "      <td>7</td>\n",
       "      <td>37494</td>\n",
       "      <td>PO</td>\n",
       "      <td>4.0</td>\n",
       "      <td>203.0</td>\n",
       "      <td>0.0</td>\n",
       "      <td>0.0</td>\n",
       "    </tr>\n",
       "    <tr>\n",
       "      <th>1</th>\n",
       "      <td>7</td>\n",
       "      <td>37494</td>\n",
       "      <td>PSL</td>\n",
       "      <td>3.0</td>\n",
       "      <td>25.0</td>\n",
       "      <td>0.0</td>\n",
       "      <td>0.0</td>\n",
       "    </tr>\n",
       "    <tr>\n",
       "      <th>2</th>\n",
       "      <td>7</td>\n",
       "      <td>37494</td>\n",
       "      <td>PiS</td>\n",
       "      <td>5.0</td>\n",
       "      <td>0.0</td>\n",
       "      <td>0.0</td>\n",
       "      <td>133.0</td>\n",
       "    </tr>\n",
       "  </tbody>\n",
       "</table>\n",
       "</div>"
      ],
      "text/plain": [
       "                              name                             \n",
       "vote cadence voteId club Nieobecny Przeciw Wstrzymał się     Za\n",
       "0          7  37494   PO       4.0   203.0           0.0    0.0\n",
       "1          7  37494  PSL       3.0    25.0           0.0    0.0\n",
       "2          7  37494  PiS       5.0     0.0           0.0  133.0"
      ]
     },
     "execution_count": 65,
     "metadata": {},
     "output_type": "execute_result"
    }
   ],
   "source": [
    "df_grp.head(3)"
   ]
  },
  {
   "cell_type": "code",
   "execution_count": 66,
   "metadata": {
    "collapsed": false
   },
   "outputs": [
    {
     "data": {
      "text/html": [
       "<div>\n",
       "<table border=\"1\" class=\"dataframe\">\n",
       "  <thead>\n",
       "    <tr style=\"text-align: right;\">\n",
       "      <th>vote</th>\n",
       "      <th>cadence</th>\n",
       "      <th>voteId</th>\n",
       "      <th>club</th>\n",
       "      <th>Nieobecny</th>\n",
       "      <th>Przeciw</th>\n",
       "      <th>Wstrzymał się</th>\n",
       "      <th>Za</th>\n",
       "    </tr>\n",
       "  </thead>\n",
       "  <tbody>\n",
       "    <tr>\n",
       "      <th>0</th>\n",
       "      <td>7</td>\n",
       "      <td>37494</td>\n",
       "      <td>PO</td>\n",
       "      <td>4.0</td>\n",
       "      <td>203.0</td>\n",
       "      <td>0.0</td>\n",
       "      <td>0.0</td>\n",
       "    </tr>\n",
       "    <tr>\n",
       "      <th>1</th>\n",
       "      <td>7</td>\n",
       "      <td>37494</td>\n",
       "      <td>PSL</td>\n",
       "      <td>3.0</td>\n",
       "      <td>25.0</td>\n",
       "      <td>0.0</td>\n",
       "      <td>0.0</td>\n",
       "    </tr>\n",
       "    <tr>\n",
       "      <th>2</th>\n",
       "      <td>7</td>\n",
       "      <td>37494</td>\n",
       "      <td>PiS</td>\n",
       "      <td>5.0</td>\n",
       "      <td>0.0</td>\n",
       "      <td>0.0</td>\n",
       "      <td>133.0</td>\n",
       "    </tr>\n",
       "    <tr>\n",
       "      <th>3</th>\n",
       "      <td>7</td>\n",
       "      <td>37494</td>\n",
       "      <td>RP</td>\n",
       "      <td>1.0</td>\n",
       "      <td>38.0</td>\n",
       "      <td>0.0</td>\n",
       "      <td>2.0</td>\n",
       "    </tr>\n",
       "    <tr>\n",
       "      <th>4</th>\n",
       "      <td>7</td>\n",
       "      <td>37494</td>\n",
       "      <td>SLD</td>\n",
       "      <td>2.0</td>\n",
       "      <td>24.0</td>\n",
       "      <td>0.0</td>\n",
       "      <td>0.0</td>\n",
       "    </tr>\n",
       "  </tbody>\n",
       "</table>\n",
       "</div>"
      ],
      "text/plain": [
       "vote  cadence  voteId club  Nieobecny  Przeciw  Wstrzymał się     Za\n",
       "0           7   37494   PO        4.0    203.0            0.0    0.0\n",
       "1           7   37494  PSL        3.0     25.0            0.0    0.0\n",
       "2           7   37494  PiS        5.0      0.0            0.0  133.0\n",
       "3           7   37494   RP        1.0     38.0            0.0    2.0\n",
       "4           7   37494  SLD        2.0     24.0            0.0    0.0"
      ]
     },
     "execution_count": 66,
     "metadata": {},
     "output_type": "execute_result"
    }
   ],
   "source": [
    "#flatten index\n",
    "df_grp.columns = df_grp.columns.get_level_values(1)\n",
    "df_grp.head()"
   ]
  },
  {
   "cell_type": "code",
   "execution_count": 67,
   "metadata": {
    "collapsed": false
   },
   "outputs": [],
   "source": [
    "#add columns for calculations\n",
    "#sum of votes\n",
    "df_grp['all'] = df_grp['Nieobecny']+df_grp['Przeciw']+df_grp['Wstrzymał się']+df_grp['Za']\n"
   ]
  },
  {
   "cell_type": "code",
   "execution_count": 68,
   "metadata": {
    "collapsed": false
   },
   "outputs": [],
   "source": [
    "#set majority voting direction column (for == 1, against == -1, abstain+missing = -1)\n",
    "def set_dir(nieobecny, przeciw, wstrzymal, za, gov=False):\n",
    "    if gov:\n",
    "        if za >= (przeciw + wstrzymal + nieobecny):\n",
    "            return 1\n",
    "        else:\n",
    "            return -1\n",
    "    else:\n",
    "        if (za >= nieobecny or (przeciw + wstrzymal) >= nieobecny):\n",
    "            if za >= (przeciw + wstrzymal):\n",
    "                return 1\n",
    "            else:\n",
    "                return -1\n",
    "        else:\n",
    "            return 0\n",
    "        \n",
    "        \n",
    "df_grp['direction'] = df_grp.apply(lambda x: set_dir(x['Nieobecny'], x['Przeciw'], x['Wstrzymał się'], x['Za']), axis=1)\n"
   ]
  },
  {
   "cell_type": "code",
   "execution_count": 69,
   "metadata": {
    "collapsed": false
   },
   "outputs": [
    {
     "data": {
      "text/html": [
       "<div>\n",
       "<table border=\"1\" class=\"dataframe\">\n",
       "  <thead>\n",
       "    <tr style=\"text-align: right;\">\n",
       "      <th>vote</th>\n",
       "      <th>cadence</th>\n",
       "      <th>voteId</th>\n",
       "      <th>club</th>\n",
       "      <th>Nieobecny</th>\n",
       "      <th>Przeciw</th>\n",
       "      <th>Wstrzymał się</th>\n",
       "      <th>Za</th>\n",
       "      <th>all</th>\n",
       "      <th>direction</th>\n",
       "    </tr>\n",
       "  </thead>\n",
       "  <tbody>\n",
       "    <tr>\n",
       "      <th>63628</th>\n",
       "      <td>8</td>\n",
       "      <td>46384</td>\n",
       "      <td>UED</td>\n",
       "      <td>4.0</td>\n",
       "      <td>0.0</td>\n",
       "      <td>0.0</td>\n",
       "      <td>0.0</td>\n",
       "      <td>4.0</td>\n",
       "      <td>0</td>\n",
       "    </tr>\n",
       "    <tr>\n",
       "      <th>63629</th>\n",
       "      <td>8</td>\n",
       "      <td>46384</td>\n",
       "      <td>WiS</td>\n",
       "      <td>1.0</td>\n",
       "      <td>2.0</td>\n",
       "      <td>0.0</td>\n",
       "      <td>0.0</td>\n",
       "      <td>3.0</td>\n",
       "      <td>-1</td>\n",
       "    </tr>\n",
       "    <tr>\n",
       "      <th>63630</th>\n",
       "      <td>8</td>\n",
       "      <td>46384</td>\n",
       "      <td>niez.</td>\n",
       "      <td>1.0</td>\n",
       "      <td>1.0</td>\n",
       "      <td>2.0</td>\n",
       "      <td>0.0</td>\n",
       "      <td>4.0</td>\n",
       "      <td>-1</td>\n",
       "    </tr>\n",
       "  </tbody>\n",
       "</table>\n",
       "</div>"
      ],
      "text/plain": [
       "vote   cadence  voteId   club  Nieobecny  Przeciw  Wstrzymał się   Za  all  \\\n",
       "63628        8   46384    UED        4.0      0.0            0.0  0.0  4.0   \n",
       "63629        8   46384    WiS        1.0      2.0            0.0  0.0  3.0   \n",
       "63630        8   46384  niez.        1.0      1.0            2.0  0.0  4.0   \n",
       "\n",
       "vote   direction  \n",
       "63628          0  \n",
       "63629         -1  \n",
       "63630         -1  "
      ]
     },
     "execution_count": 69,
     "metadata": {},
     "output_type": "execute_result"
    }
   ],
   "source": [
    "df_grp.tail(3)"
   ]
  },
  {
   "cell_type": "code",
   "execution_count": 70,
   "metadata": {
    "collapsed": false
   },
   "outputs": [],
   "source": [
    "#find government vote direction\n",
    "df_govt_7 = df_grp.loc[(df_grp['club']=='PO') & (df_grp['cadence']==7)]\n",
    "df_govt_8 = df_grp.loc[(df_grp['club']=='PiS') & (df_grp['cadence']==8)]\n",
    "df_govt = df_govt_7.append(df_govt_8)\n",
    "\n",
    "df_govt['direction_gov'] = df_govt.apply(lambda x: set_dir(x['Nieobecny'], x['Przeciw'], x['Wstrzymał się'], x['Za'], gov=True), axis=1)\n",
    "df_to_merge = df_govt[['voteId','direction_gov']]\n"
   ]
  },
  {
   "cell_type": "code",
   "execution_count": 71,
   "metadata": {
    "collapsed": true
   },
   "outputs": [],
   "source": [
    "#merge government voting direction back to grouped df\n",
    "df_grp = pd.merge(df_grp,df_to_merge,on=['voteId'])"
   ]
  },
  {
   "cell_type": "code",
   "execution_count": 77,
   "metadata": {
    "collapsed": true
   },
   "outputs": [],
   "source": [
    "#compliance score\n",
    "df_grp['gov_compliance'] = df_grp['direction'] * df_grp['direction_gov']\n",
    "#missing pct\n",
    "df_grp['missing_pct'] = df_grp['Nieobecny']/df_grp['all']\n",
    "    #if missing is the majority vote then missing % == 0\n",
    "df_grp.loc[df_grp['gov_compliance']==0,'missing_pct'] = 0\n",
    "#discipline\n",
    "df_grp['max_vote'] = df_grp[['Nieobecny','Przeciw','Wstrzymał się','Za']].max(axis=1)\n",
    "df_grp['discipline'] = df_grp['max_vote']/df_grp['all']"
   ]
  },
  {
   "cell_type": "code",
   "execution_count": 79,
   "metadata": {
    "collapsed": false
   },
   "outputs": [
    {
     "data": {
      "text/html": [
       "<div>\n",
       "<table border=\"1\" class=\"dataframe\">\n",
       "  <thead>\n",
       "    <tr style=\"text-align: right;\">\n",
       "      <th>vote</th>\n",
       "      <th>cadence</th>\n",
       "      <th>voteId</th>\n",
       "      <th>club</th>\n",
       "      <th>Nieobecny</th>\n",
       "      <th>Przeciw</th>\n",
       "      <th>Wstrzymał się</th>\n",
       "      <th>Za</th>\n",
       "      <th>all</th>\n",
       "      <th>direction</th>\n",
       "      <th>direction_gov</th>\n",
       "      <th>gov_compliance</th>\n",
       "      <th>missing_pct</th>\n",
       "      <th>max_vote</th>\n",
       "      <th>discipline</th>\n",
       "    </tr>\n",
       "  </thead>\n",
       "  <tbody>\n",
       "    <tr>\n",
       "      <th>63628</th>\n",
       "      <td>8</td>\n",
       "      <td>46384</td>\n",
       "      <td>UED</td>\n",
       "      <td>4.0</td>\n",
       "      <td>0.0</td>\n",
       "      <td>0.0</td>\n",
       "      <td>0.0</td>\n",
       "      <td>4.0</td>\n",
       "      <td>0</td>\n",
       "      <td>-1</td>\n",
       "      <td>0</td>\n",
       "      <td>0.000000</td>\n",
       "      <td>4.0</td>\n",
       "      <td>1.000000</td>\n",
       "    </tr>\n",
       "    <tr>\n",
       "      <th>63629</th>\n",
       "      <td>8</td>\n",
       "      <td>46384</td>\n",
       "      <td>WiS</td>\n",
       "      <td>1.0</td>\n",
       "      <td>2.0</td>\n",
       "      <td>0.0</td>\n",
       "      <td>0.0</td>\n",
       "      <td>3.0</td>\n",
       "      <td>-1</td>\n",
       "      <td>-1</td>\n",
       "      <td>1</td>\n",
       "      <td>0.333333</td>\n",
       "      <td>2.0</td>\n",
       "      <td>0.666667</td>\n",
       "    </tr>\n",
       "    <tr>\n",
       "      <th>63630</th>\n",
       "      <td>8</td>\n",
       "      <td>46384</td>\n",
       "      <td>niez.</td>\n",
       "      <td>1.0</td>\n",
       "      <td>1.0</td>\n",
       "      <td>2.0</td>\n",
       "      <td>0.0</td>\n",
       "      <td>4.0</td>\n",
       "      <td>-1</td>\n",
       "      <td>-1</td>\n",
       "      <td>1</td>\n",
       "      <td>0.250000</td>\n",
       "      <td>2.0</td>\n",
       "      <td>0.500000</td>\n",
       "    </tr>\n",
       "  </tbody>\n",
       "</table>\n",
       "</div>"
      ],
      "text/plain": [
       "vote   cadence  voteId   club  Nieobecny  Przeciw  Wstrzymał się   Za  all  \\\n",
       "63628        8   46384    UED        4.0      0.0            0.0  0.0  4.0   \n",
       "63629        8   46384    WiS        1.0      2.0            0.0  0.0  3.0   \n",
       "63630        8   46384  niez.        1.0      1.0            2.0  0.0  4.0   \n",
       "\n",
       "vote   direction  direction_gov  gov_compliance  missing_pct  max_vote  \\\n",
       "63628          0             -1               0     0.000000       4.0   \n",
       "63629         -1             -1               1     0.333333       2.0   \n",
       "63630         -1             -1               1     0.250000       2.0   \n",
       "\n",
       "vote   discipline  \n",
       "63628    1.000000  \n",
       "63629    0.666667  \n",
       "63630    0.500000  "
      ]
     },
     "execution_count": 79,
     "metadata": {},
     "output_type": "execute_result"
    }
   ],
   "source": [
    "df_grp.tail(3)"
   ]
  },
  {
   "cell_type": "markdown",
   "metadata": {},
   "source": [
    "#### Missing votes (excluding walk outs)\n",
    "Summarize average percent of missing votes (excluding majority walk outs) per voting session \n",
    "\n"
   ]
  },
  {
   "cell_type": "code",
   "execution_count": null,
   "metadata": {
    "collapsed": true
   },
   "outputs": [],
   "source": []
  },
  {
   "cell_type": "code",
   "execution_count": null,
   "metadata": {
    "collapsed": true
   },
   "outputs": [],
   "source": []
  },
  {
   "cell_type": "markdown",
   "metadata": {},
   "source": [
    "#### Club discipline\n",
    "Summarize average % of majority votes per voting session with respect to total number of club members"
   ]
  },
  {
   "cell_type": "code",
   "execution_count": null,
   "metadata": {
    "collapsed": true
   },
   "outputs": [],
   "source": []
  },
  {
   "cell_type": "code",
   "execution_count": null,
   "metadata": {
    "collapsed": true
   },
   "outputs": [],
   "source": []
  },
  {
   "cell_type": "markdown",
   "metadata": {},
   "source": [
    "#### Clubs voting pro/against government voting direction\n",
    "For each parliment club summarize % of voting sessions pro/against the ruling party"
   ]
  },
  {
   "cell_type": "code",
   "execution_count": null,
   "metadata": {
    "collapsed": true
   },
   "outputs": [],
   "source": []
  },
  {
   "cell_type": "code",
   "execution_count": null,
   "metadata": {
    "collapsed": true
   },
   "outputs": [],
   "source": []
  },
  {
   "cell_type": "markdown",
   "metadata": {},
   "source": [
    "#### Movement of people between clubs in time\n",
    "Summarize the history of people moving between clubs (SNA? Line diagram?)"
   ]
  },
  {
   "cell_type": "code",
   "execution_count": null,
   "metadata": {
    "collapsed": true
   },
   "outputs": [],
   "source": []
  },
  {
   "cell_type": "code",
   "execution_count": null,
   "metadata": {
    "collapsed": true
   },
   "outputs": [],
   "source": []
  },
  {
   "cell_type": "markdown",
   "metadata": {},
   "source": [
    "#### Show the distribution of missing votes for individuals\n",
    "(Optional)"
   ]
  },
  {
   "cell_type": "code",
   "execution_count": null,
   "metadata": {
    "collapsed": true
   },
   "outputs": [],
   "source": []
  }
 ],
 "metadata": {
  "anaconda-cloud": {},
  "kernelspec": {
   "display_name": "Python [conda root]",
   "language": "python",
   "name": "conda-root-py"
  },
  "language_info": {
   "codemirror_mode": {
    "name": "ipython",
    "version": 3
   },
   "file_extension": ".py",
   "mimetype": "text/x-python",
   "name": "python",
   "nbconvert_exporter": "python",
   "pygments_lexer": "ipython3",
   "version": "3.5.2"
  }
 },
 "nbformat": 4,
 "nbformat_minor": 1
}
